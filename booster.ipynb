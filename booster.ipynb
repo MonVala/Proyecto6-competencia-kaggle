{
 "cells": [
  {
   "cell_type": "code",
   "execution_count": 1,
   "id": "f1a212e0-7484-42bf-9f48-0601b230fb79",
   "metadata": {},
   "outputs": [],
   "source": [
    "import pandas as pd\n",
    "import numpy as np\n",
    "import matplotlib.pyplot as plt\n"
   ]
  },
  {
   "cell_type": "code",
   "execution_count": 2,
   "id": "f3f90970-59cc-4340-a08f-c1218d64d4ba",
   "metadata": {},
   "outputs": [],
   "source": [
    "df_train = pd.read_csv('z_train.csv')\n",
    "df_test = pd.read_csv('z_test.csv')"
   ]
  },
  {
   "cell_type": "code",
   "execution_count": 3,
   "id": "a5087e93-057d-4acc-a195-4fc90c8b301a",
   "metadata": {},
   "outputs": [],
   "source": [
    "train = df_train.copy()\n",
    "test = df_test.copy()"
   ]
  },
  {
   "cell_type": "code",
   "execution_count": 4,
   "id": "9e76c609-719c-45d2-adbe-f130bd17b87a",
   "metadata": {},
   "outputs": [
    {
     "name": "stdout",
     "output_type": "stream",
     "text": [
      "<class 'pandas.core.frame.DataFrame'>\n",
      "RangeIndex: 15326 entries, 0 to 15325\n",
      "Data columns (total 14 columns):\n",
      " #   Column                  Non-Null Count  Dtype  \n",
      "---  ------                  --------------  -----  \n",
      " 0   enrollee_id             15326 non-null  int64  \n",
      " 1   city                    15326 non-null  object \n",
      " 2   city_development_index  15326 non-null  float64\n",
      " 3   gender                  11725 non-null  object \n",
      " 4   relevent_experience     15326 non-null  object \n",
      " 5   enrolled_university     15024 non-null  object \n",
      " 6   education_level         14957 non-null  object \n",
      " 7   major_discipline        13089 non-null  object \n",
      " 8   experience              15276 non-null  object \n",
      " 9   company_size            10592 non-null  object \n",
      " 10  company_type            10435 non-null  object \n",
      " 11  last_new_job            14987 non-null  object \n",
      " 12  training_hours          15326 non-null  int64  \n",
      " 13  target                  15326 non-null  float64\n",
      "dtypes: float64(2), int64(2), object(10)\n",
      "memory usage: 1.6+ MB\n"
     ]
    }
   ],
   "source": [
    "train.info()"
   ]
  },
  {
   "cell_type": "code",
   "execution_count": 5,
   "id": "0d362183-3274-4f59-95ad-babf2ed06ebc",
   "metadata": {},
   "outputs": [
    {
     "data": {
      "text/plain": [
       "(3832, 13)"
      ]
     },
     "execution_count": 5,
     "metadata": {},
     "output_type": "execute_result"
    }
   ],
   "source": [
    "df_test.shape"
   ]
  },
  {
   "cell_type": "code",
   "execution_count": 6,
   "id": "a719b60d-9b8f-4042-b429-374c39f68a0e",
   "metadata": {},
   "outputs": [
    {
     "data": {
      "text/plain": [
       "(15326, 14)"
      ]
     },
     "execution_count": 6,
     "metadata": {},
     "output_type": "execute_result"
    }
   ],
   "source": [
    "train.shape"
   ]
  },
  {
   "cell_type": "code",
   "execution_count": 7,
   "id": "2638da70-4bdb-403a-988b-c88241d37ec3",
   "metadata": {},
   "outputs": [
    {
     "data": {
      "text/plain": [
       "experience               50\n",
       "enrolled_university     302\n",
       "last_new_job            339\n",
       "education_level         369\n",
       "major_discipline       2237\n",
       "gender                 3601\n",
       "company_size           4734\n",
       "company_type           4891\n",
       "dtype: int64"
      ]
     },
     "execution_count": 7,
     "metadata": {},
     "output_type": "execute_result"
    }
   ],
   "source": [
    "train.isnull().sum()[train.isnull().sum() > 0].sort_values()"
   ]
  },
  {
   "cell_type": "code",
   "execution_count": 8,
   "id": "35180c4a-00d5-4c38-9d55-a50a9ffb2c42",
   "metadata": {},
   "outputs": [
    {
     "data": {
      "text/plain": [
       "Pvt Ltd                7873\n",
       "Funded Startup          792\n",
       "Public Sector           773\n",
       "Early Stage Startup     489\n",
       "NGO                     421\n",
       "Other                    87\n",
       "Name: company_type, dtype: int64"
      ]
     },
     "execution_count": 8,
     "metadata": {},
     "output_type": "execute_result"
    }
   ],
   "source": [
    "train.company_type.value_counts()"
   ]
  },
  {
   "cell_type": "code",
   "execution_count": 9,
   "id": "d7e912e9-ed3d-4f81-99b6-b64df11b78a0",
   "metadata": {},
   "outputs": [
    {
     "data": {
      "text/plain": [
       "Male      10577\n",
       "Female      998\n",
       "Other       150\n",
       "Name: gender, dtype: int64"
      ]
     },
     "execution_count": 9,
     "metadata": {},
     "output_type": "execute_result"
    }
   ],
   "source": [
    "train.gender.value_counts()"
   ]
  },
  {
   "cell_type": "code",
   "execution_count": 10,
   "id": "22a32695-2c8b-4360-a7b4-3ece016ea8a8",
   "metadata": {},
   "outputs": [
    {
     "data": {
      "text/plain": [
       "STEM               11609\n",
       "Humanities           530\n",
       "Other                308\n",
       "Business Degree      259\n",
       "Arts                 204\n",
       "No Major             179\n",
       "Name: major_discipline, dtype: int64"
      ]
     },
     "execution_count": 10,
     "metadata": {},
     "output_type": "execute_result"
    }
   ],
   "source": [
    "train.major_discipline.value_counts()"
   ]
  },
  {
   "cell_type": "code",
   "execution_count": null,
   "id": "e60c9ac1-7f28-4034-8e7c-35cebe04990e",
   "metadata": {},
   "outputs": [],
   "source": []
  },
  {
   "cell_type": "code",
   "execution_count": null,
   "id": "11ce81c4-b852-44a6-b908-0d44d7c3b613",
   "metadata": {},
   "outputs": [],
   "source": []
  },
  {
   "cell_type": "code",
   "execution_count": 11,
   "id": "869f22fe-274b-423c-9306-e0c29aa09886",
   "metadata": {},
   "outputs": [
    {
     "data": {
      "text/plain": [
       "Graduate          9265\n",
       "Masters           3514\n",
       "High School       1607\n",
       "Phd                329\n",
       "Primary School     242\n",
       "Name: education_level, dtype: int64"
      ]
     },
     "execution_count": 11,
     "metadata": {},
     "output_type": "execute_result"
    }
   ],
   "source": [
    "train.education_level.value_counts()"
   ]
  },
  {
   "cell_type": "code",
   "execution_count": 12,
   "id": "82b67dc5-fdc7-48d8-9ba5-5942644e927c",
   "metadata": {},
   "outputs": [],
   "source": [
    "def ed_level(num):\n",
    "    num= str(num)\n",
    "    #print(type(num))\n",
    "    if 'nan' in num:\n",
    "        num = num.replace('nan','Graduate')\n",
    "        #num = float(num)\n",
    "        return num\n",
    "    \n",
    "    else:\n",
    "        #num = float(num)\n",
    "        return num"
   ]
  },
  {
   "cell_type": "code",
   "execution_count": 13,
   "id": "a1dbe380-3506-4b91-b805-8a6ea8c3dc41",
   "metadata": {},
   "outputs": [],
   "source": [
    "train.education_level = train.education_level.apply(ed_level)"
   ]
  },
  {
   "cell_type": "code",
   "execution_count": 14,
   "id": "67b09bd0-af43-4521-b5d9-6a1bf0204051",
   "metadata": {},
   "outputs": [],
   "source": [
    "test.education_level = test.education_level.apply(ed_level)"
   ]
  },
  {
   "cell_type": "code",
   "execution_count": 15,
   "id": "8b1eee4b-64d9-4811-89ac-7f32ebd66817",
   "metadata": {},
   "outputs": [
    {
     "data": {
      "text/plain": [
       "1        6458\n",
       ">4       2627\n",
       "2        2318\n",
       "never    1945\n",
       "4         823\n",
       "3         816\n",
       "Name: last_new_job, dtype: int64"
      ]
     },
     "execution_count": 15,
     "metadata": {},
     "output_type": "execute_result"
    }
   ],
   "source": [
    "train.last_new_job.value_counts()"
   ]
  },
  {
   "cell_type": "code",
   "execution_count": 16,
   "id": "4be2544c-1a33-42fe-8e43-c93269a41063",
   "metadata": {},
   "outputs": [
    {
     "data": {
      "text/plain": [
       "no_enrollment       11071\n",
       "Full time course     2990\n",
       "Part time course      963\n",
       "Name: enrolled_university, dtype: int64"
      ]
     },
     "execution_count": 16,
     "metadata": {},
     "output_type": "execute_result"
    }
   ],
   "source": [
    "train.enrolled_university.value_counts()"
   ]
  },
  {
   "cell_type": "code",
   "execution_count": 17,
   "id": "da125424-545a-46ad-85ee-b778cd1fac02",
   "metadata": {},
   "outputs": [
    {
     "data": {
      "text/plain": [
       ">20    2633\n",
       "5      1148\n",
       "4      1104\n",
       "3      1084\n",
       "6       971\n",
       "2       905\n",
       "7       835\n",
       "10      793\n",
       "9       780\n",
       "8       643\n",
       "15      553\n",
       "11      538\n",
       "14      479\n",
       "1       440\n",
       "16      420\n",
       "<1      408\n",
       "12      384\n",
       "13      304\n",
       "17      281\n",
       "19      235\n",
       "18      225\n",
       "20      113\n",
       "Name: experience, dtype: int64"
      ]
     },
     "execution_count": 17,
     "metadata": {},
     "output_type": "execute_result"
    }
   ],
   "source": [
    "train.experience.value_counts()"
   ]
  },
  {
   "cell_type": "code",
   "execution_count": 18,
   "id": "50fd66c0-246f-4b56-9fec-4de620f48ae9",
   "metadata": {},
   "outputs": [
    {
     "data": {
      "text/plain": [
       "<AxesSubplot:>"
      ]
     },
     "execution_count": 18,
     "metadata": {},
     "output_type": "execute_result"
    },
    {
     "data": {
      "image/png": "[encoded data removed]",
      "text/plain": [
       "<Figure size 432x288 with 1 Axes>"
      ]
     },
     "metadata": {
      "needs_background": "light"
     },
     "output_type": "display_data"
    }
   ],
   "source": [
    "train.experience.hist(bins=25)"
   ]
  },
  {
   "cell_type": "code",
   "execution_count": 19,
   "id": "2a8108da-581b-4ebd-9d1b-5cbc69d84fb3",
   "metadata": {},
   "outputs": [
    {
     "data": {
      "text/plain": [
       "city_103    3497\n",
       "city_21     2156\n",
       "city_16     1259\n",
       "city_114    1067\n",
       "city_160     670\n",
       "            ... \n",
       "city_129       2\n",
       "city_8         2\n",
       "city_140       1\n",
       "city_171       1\n",
       "city_121       1\n",
       "Name: city, Length: 123, dtype: int64"
      ]
     },
     "execution_count": 19,
     "metadata": {},
     "output_type": "execute_result"
    }
   ],
   "source": [
    "train.city.value_counts()"
   ]
  },
  {
   "cell_type": "code",
   "execution_count": 20,
   "id": "910f6c95-ffac-441d-9235-3295910c746c",
   "metadata": {},
   "outputs": [
    {
     "data": {
      "text/plain": [
       "0.920    4167\n",
       "0.624    2156\n",
       "0.910    1259\n",
       "0.926    1067\n",
       "0.698     536\n",
       "         ... \n",
       "0.824       3\n",
       "0.780       3\n",
       "0.625       2\n",
       "0.664       1\n",
       "0.781       1\n",
       "Name: city_development_index, Length: 93, dtype: int64"
      ]
     },
     "execution_count": 20,
     "metadata": {},
     "output_type": "execute_result"
    }
   ],
   "source": [
    "train.city_development_index.value_counts()"
   ]
  },
  {
   "cell_type": "code",
   "execution_count": 21,
   "id": "cfd43aef-3700-4270-a438-79bd795848b4",
   "metadata": {},
   "outputs": [
    {
     "data": {
      "text/plain": [
       "Has relevent experience    11068\n",
       "No relevent experience      4258\n",
       "Name: relevent_experience, dtype: int64"
      ]
     },
     "execution_count": 21,
     "metadata": {},
     "output_type": "execute_result"
    }
   ],
   "source": [
    "train.relevent_experience.value_counts()"
   ]
  },
  {
   "cell_type": "code",
   "execution_count": null,
   "id": "41bc5e21-0449-4ce1-9619-0faff0a074f4",
   "metadata": {},
   "outputs": [],
   "source": []
  },
  {
   "cell_type": "code",
   "execution_count": 22,
   "id": "55deb5c6-8315-41bc-8685-369fac62ec66",
   "metadata": {},
   "outputs": [],
   "source": [
    "train.drop(['enrollee_id', 'city','company_size', 'company_type', 'major_discipline', 'last_new_job'], axis=1 , inplace = True)"
   ]
  },
  {
   "cell_type": "code",
   "execution_count": 23,
   "id": "1f9af387-0d17-4d32-95ca-97a9340ac6d7",
   "metadata": {},
   "outputs": [],
   "source": [
    "test.drop(['enrollee_id', 'city','company_size', 'company_type', 'major_discipline', 'last_new_job'], axis=1 , inplace = True)"
   ]
  },
  {
   "cell_type": "code",
   "execution_count": 24,
   "id": "30124383-7813-4499-bc1e-78714269c922",
   "metadata": {},
   "outputs": [
    {
     "data": {
      "text/html": [
       "<div>\n",
       "<style scoped>\n",
       "    .dataframe tbody tr th:only-of-type {\n",
       "        vertical-align: middle;\n",
       "    }\n",
       "\n",
       "    .dataframe tbody tr th {\n",
       "        vertical-align: top;\n",
       "    }\n",
       "\n",
       "    .dataframe thead th {\n",
       "        text-align: right;\n",
       "    }\n",
       "</style>\n",
       "<table border=\"1\" class=\"dataframe\">\n",
       "  <thead>\n",
       "    <tr style=\"text-align: right;\">\n",
       "      <th></th>\n",
       "      <th>city_development_index</th>\n",
       "      <th>gender</th>\n",
       "      <th>relevent_experience</th>\n",
       "      <th>enrolled_university</th>\n",
       "      <th>education_level</th>\n",
       "      <th>experience</th>\n",
       "      <th>training_hours</th>\n",
       "      <th>target</th>\n",
       "    </tr>\n",
       "  </thead>\n",
       "  <tbody>\n",
       "    <tr>\n",
       "      <th>0</th>\n",
       "      <td>0.920</td>\n",
       "      <td>Male</td>\n",
       "      <td>Has relevent experience</td>\n",
       "      <td>no_enrollment</td>\n",
       "      <td>Graduate</td>\n",
       "      <td>&gt;20</td>\n",
       "      <td>36</td>\n",
       "      <td>1.0</td>\n",
       "    </tr>\n",
       "    <tr>\n",
       "      <th>1</th>\n",
       "      <td>0.776</td>\n",
       "      <td>Male</td>\n",
       "      <td>No relevent experience</td>\n",
       "      <td>no_enrollment</td>\n",
       "      <td>Graduate</td>\n",
       "      <td>15</td>\n",
       "      <td>47</td>\n",
       "      <td>0.0</td>\n",
       "    </tr>\n",
       "    <tr>\n",
       "      <th>2</th>\n",
       "      <td>0.624</td>\n",
       "      <td>NaN</td>\n",
       "      <td>No relevent experience</td>\n",
       "      <td>Full time course</td>\n",
       "      <td>Graduate</td>\n",
       "      <td>5</td>\n",
       "      <td>83</td>\n",
       "      <td>0.0</td>\n",
       "    </tr>\n",
       "    <tr>\n",
       "      <th>3</th>\n",
       "      <td>0.789</td>\n",
       "      <td>NaN</td>\n",
       "      <td>No relevent experience</td>\n",
       "      <td>NaN</td>\n",
       "      <td>Graduate</td>\n",
       "      <td>&lt;1</td>\n",
       "      <td>52</td>\n",
       "      <td>1.0</td>\n",
       "    </tr>\n",
       "    <tr>\n",
       "      <th>4</th>\n",
       "      <td>0.764</td>\n",
       "      <td>NaN</td>\n",
       "      <td>Has relevent experience</td>\n",
       "      <td>Part time course</td>\n",
       "      <td>Graduate</td>\n",
       "      <td>11</td>\n",
       "      <td>24</td>\n",
       "      <td>1.0</td>\n",
       "    </tr>\n",
       "  </tbody>\n",
       "</table>\n",
       "</div>"
      ],
      "text/plain": [
       "   city_development_index gender      relevent_experience enrolled_university  \\\n",
       "0                   0.920   Male  Has relevent experience       no_enrollment   \n",
       "1                   0.776   Male   No relevent experience       no_enrollment   \n",
       "2                   0.624    NaN   No relevent experience    Full time course   \n",
       "3                   0.789    NaN   No relevent experience                 NaN   \n",
       "4                   0.764    NaN  Has relevent experience    Part time course   \n",
       "\n",
       "  education_level experience  training_hours  target  \n",
       "0        Graduate        >20              36     1.0  \n",
       "1        Graduate         15              47     0.0  \n",
       "2        Graduate          5              83     0.0  \n",
       "3        Graduate         <1              52     1.0  \n",
       "4        Graduate         11              24     1.0  "
      ]
     },
     "execution_count": 24,
     "metadata": {},
     "output_type": "execute_result"
    }
   ],
   "source": [
    "train.head()"
   ]
  },
  {
   "cell_type": "code",
   "execution_count": 25,
   "id": "10e517de-b008-4958-8c95-d38fe6e55973",
   "metadata": {},
   "outputs": [
    {
     "data": {
      "text/plain": [
       "(15326, 8)"
      ]
     },
     "execution_count": 25,
     "metadata": {},
     "output_type": "execute_result"
    }
   ],
   "source": [
    "train.shape"
   ]
  },
  {
   "cell_type": "code",
   "execution_count": 26,
   "id": "4ea89ba8-cf8a-486f-917a-1453f257cfa4",
   "metadata": {},
   "outputs": [],
   "source": [
    "def genero(num):\n",
    "    num= str(num)\n",
    "    #print(type(num))\n",
    "    if 'nan' in num:\n",
    "        num = num.replace('nan','Male')\n",
    "        #num = float(num)\n",
    "        return num\n",
    "    \n",
    "    else:\n",
    "        #num = float(num)\n",
    "        return num"
   ]
  },
  {
   "cell_type": "code",
   "execution_count": 27,
   "id": "6da424d8-a150-4d21-94e6-129e590e6981",
   "metadata": {},
   "outputs": [],
   "source": [
    "train.gender = train.gender.apply(genero)\n",
    "test.gender = test.gender.apply(genero)"
   ]
  },
  {
   "cell_type": "code",
   "execution_count": 28,
   "id": "5a97d0c8-1b78-40c9-8974-cfa3d9b4fba5",
   "metadata": {},
   "outputs": [
    {
     "data": {
      "text/plain": [
       "Male      14178\n",
       "Female      998\n",
       "Other       150\n",
       "Name: gender, dtype: int64"
      ]
     },
     "execution_count": 28,
     "metadata": {},
     "output_type": "execute_result"
    }
   ],
   "source": [
    "train.gender.value_counts()"
   ]
  },
  {
   "cell_type": "code",
   "execution_count": 29,
   "id": "52970d65-3844-497d-87fa-8cc53b90926a",
   "metadata": {},
   "outputs": [
    {
     "data": {
      "text/plain": [
       "(15326, 8)"
      ]
     },
     "execution_count": 29,
     "metadata": {},
     "output_type": "execute_result"
    }
   ],
   "source": [
    "train.shape"
   ]
  },
  {
   "cell_type": "code",
   "execution_count": null,
   "id": "24b90bd6-0682-4d38-bd2d-ff44708f41cd",
   "metadata": {},
   "outputs": [],
   "source": []
  },
  {
   "cell_type": "code",
   "execution_count": null,
   "id": "37b0d6ce-ef26-4f93-b9ad-7d125b385655",
   "metadata": {},
   "outputs": [],
   "source": []
  },
  {
   "cell_type": "code",
   "execution_count": 30,
   "id": "b5541176-e146-461f-b98d-1953b1cc3d97",
   "metadata": {},
   "outputs": [
    {
     "data": {
      "text/plain": [
       "(15326, 8)"
      ]
     },
     "execution_count": 30,
     "metadata": {},
     "output_type": "execute_result"
    }
   ],
   "source": [
    "train.shape"
   ]
  },
  {
   "cell_type": "code",
   "execution_count": null,
   "id": "d0dc00ff-b03d-4766-b219-a2530a6e445b",
   "metadata": {},
   "outputs": [],
   "source": []
  },
  {
   "cell_type": "code",
   "execution_count": null,
   "id": "ea5fd90a-221a-41a6-8e90-788b92cab45b",
   "metadata": {},
   "outputs": [],
   "source": []
  },
  {
   "cell_type": "code",
   "execution_count": null,
   "id": "52165a07-b9bb-447d-80c5-e3c1a2abba27",
   "metadata": {},
   "outputs": [],
   "source": []
  },
  {
   "cell_type": "code",
   "execution_count": 31,
   "id": "a8603815-1bba-4c4f-9dfc-76703ea682ea",
   "metadata": {},
   "outputs": [
    {
     "data": {
      "text/html": [
       "<div>\n",
       "<style scoped>\n",
       "    .dataframe tbody tr th:only-of-type {\n",
       "        vertical-align: middle;\n",
       "    }\n",
       "\n",
       "    .dataframe tbody tr th {\n",
       "        vertical-align: top;\n",
       "    }\n",
       "\n",
       "    .dataframe thead th {\n",
       "        text-align: right;\n",
       "    }\n",
       "</style>\n",
       "<table border=\"1\" class=\"dataframe\">\n",
       "  <thead>\n",
       "    <tr style=\"text-align: right;\">\n",
       "      <th></th>\n",
       "      <th>city_development_index</th>\n",
       "      <th>gender</th>\n",
       "      <th>relevent_experience</th>\n",
       "      <th>enrolled_university</th>\n",
       "      <th>education_level</th>\n",
       "      <th>experience</th>\n",
       "      <th>training_hours</th>\n",
       "      <th>target</th>\n",
       "    </tr>\n",
       "  </thead>\n",
       "  <tbody>\n",
       "    <tr>\n",
       "      <th>0</th>\n",
       "      <td>0.920</td>\n",
       "      <td>Male</td>\n",
       "      <td>Has relevent experience</td>\n",
       "      <td>no_enrollment</td>\n",
       "      <td>Graduate</td>\n",
       "      <td>&gt;20</td>\n",
       "      <td>36</td>\n",
       "      <td>1.0</td>\n",
       "    </tr>\n",
       "    <tr>\n",
       "      <th>1</th>\n",
       "      <td>0.776</td>\n",
       "      <td>Male</td>\n",
       "      <td>No relevent experience</td>\n",
       "      <td>no_enrollment</td>\n",
       "      <td>Graduate</td>\n",
       "      <td>15</td>\n",
       "      <td>47</td>\n",
       "      <td>0.0</td>\n",
       "    </tr>\n",
       "    <tr>\n",
       "      <th>2</th>\n",
       "      <td>0.624</td>\n",
       "      <td>Male</td>\n",
       "      <td>No relevent experience</td>\n",
       "      <td>Full time course</td>\n",
       "      <td>Graduate</td>\n",
       "      <td>5</td>\n",
       "      <td>83</td>\n",
       "      <td>0.0</td>\n",
       "    </tr>\n",
       "    <tr>\n",
       "      <th>3</th>\n",
       "      <td>0.789</td>\n",
       "      <td>Male</td>\n",
       "      <td>No relevent experience</td>\n",
       "      <td>NaN</td>\n",
       "      <td>Graduate</td>\n",
       "      <td>&lt;1</td>\n",
       "      <td>52</td>\n",
       "      <td>1.0</td>\n",
       "    </tr>\n",
       "    <tr>\n",
       "      <th>4</th>\n",
       "      <td>0.764</td>\n",
       "      <td>Male</td>\n",
       "      <td>Has relevent experience</td>\n",
       "      <td>Part time course</td>\n",
       "      <td>Graduate</td>\n",
       "      <td>11</td>\n",
       "      <td>24</td>\n",
       "      <td>1.0</td>\n",
       "    </tr>\n",
       "  </tbody>\n",
       "</table>\n",
       "</div>"
      ],
      "text/plain": [
       "   city_development_index gender      relevent_experience enrolled_university  \\\n",
       "0                   0.920   Male  Has relevent experience       no_enrollment   \n",
       "1                   0.776   Male   No relevent experience       no_enrollment   \n",
       "2                   0.624   Male   No relevent experience    Full time course   \n",
       "3                   0.789   Male   No relevent experience                 NaN   \n",
       "4                   0.764   Male  Has relevent experience    Part time course   \n",
       "\n",
       "  education_level experience  training_hours  target  \n",
       "0        Graduate        >20              36     1.0  \n",
       "1        Graduate         15              47     0.0  \n",
       "2        Graduate          5              83     0.0  \n",
       "3        Graduate         <1              52     1.0  \n",
       "4        Graduate         11              24     1.0  "
      ]
     },
     "execution_count": 31,
     "metadata": {},
     "output_type": "execute_result"
    }
   ],
   "source": [
    "train.head()"
   ]
  },
  {
   "cell_type": "code",
   "execution_count": null,
   "id": "dc9bb50d-9c4e-45e3-9b65-1afcb09fb705",
   "metadata": {},
   "outputs": [],
   "source": []
  },
  {
   "cell_type": "code",
   "execution_count": 32,
   "id": "eb194696-d5ca-4496-a235-015a924cbbf8",
   "metadata": {},
   "outputs": [],
   "source": [
    "def limpieza_exp(num):\n",
    "    num= str(num)\n",
    "    #print(type(num))\n",
    "    if '>20' in num:\n",
    "        num = num.replace('>20','20')\n",
    "        #num = float(num)\n",
    "        return num \n",
    "    if '<1' in num:\n",
    "        num = num.replace('<1','1')\n",
    "        #num = float(num)\n",
    "        return num\n",
    "    if 'nan' in num:\n",
    "        num = num.replace('nan','0')\n",
    "        #num = float(num)\n",
    "        return num\n",
    "    else:\n",
    "        #num = float(num)\n",
    "        return num\n"
   ]
  },
  {
   "cell_type": "code",
   "execution_count": 33,
   "id": "2bfb27fc-6615-46cd-99db-3e4ee7af03f9",
   "metadata": {},
   "outputs": [],
   "source": [
    "train.experience = train.experience.apply(limpieza_exp)"
   ]
  },
  {
   "cell_type": "code",
   "execution_count": 34,
   "id": "7ce285ba-0567-4df1-9821-b3690b96a06d",
   "metadata": {},
   "outputs": [],
   "source": [
    "test.experience = test.experience.apply(limpieza_exp)"
   ]
  },
  {
   "cell_type": "code",
   "execution_count": 35,
   "id": "68e82ce0-6e16-499f-a5b3-0a14c921d230",
   "metadata": {},
   "outputs": [
    {
     "name": "stdout",
     "output_type": "stream",
     "text": [
      "<class 'pandas.core.frame.DataFrame'>\n",
      "RangeIndex: 15326 entries, 0 to 15325\n",
      "Data columns (total 8 columns):\n",
      " #   Column                  Non-Null Count  Dtype  \n",
      "---  ------                  --------------  -----  \n",
      " 0   city_development_index  15326 non-null  float64\n",
      " 1   gender                  15326 non-null  object \n",
      " 2   relevent_experience     15326 non-null  object \n",
      " 3   enrolled_university     15024 non-null  object \n",
      " 4   education_level         15326 non-null  object \n",
      " 5   experience              15326 non-null  object \n",
      " 6   training_hours          15326 non-null  int64  \n",
      " 7   target                  15326 non-null  float64\n",
      "dtypes: float64(2), int64(1), object(5)\n",
      "memory usage: 958.0+ KB\n"
     ]
    }
   ],
   "source": [
    "train.info()"
   ]
  },
  {
   "cell_type": "code",
   "execution_count": 36,
   "id": "ae066381-8ae3-4e49-a1bd-17e4ea8ab918",
   "metadata": {},
   "outputs": [
    {
     "data": {
      "text/plain": [
       "20    2746\n",
       "5     1148\n",
       "4     1104\n",
       "3     1084\n",
       "6      971\n",
       "2      905\n",
       "1      848\n",
       "7      835\n",
       "10     793\n",
       "9      780\n",
       "8      643\n",
       "15     553\n",
       "11     538\n",
       "14     479\n",
       "16     420\n",
       "12     384\n",
       "13     304\n",
       "17     281\n",
       "19     235\n",
       "18     225\n",
       "0       50\n",
       "Name: experience, dtype: int64"
      ]
     },
     "execution_count": 36,
     "metadata": {},
     "output_type": "execute_result"
    }
   ],
   "source": [
    "train.experience.value_counts()"
   ]
  },
  {
   "cell_type": "code",
   "execution_count": 37,
   "id": "cf2a83f3-c787-46e6-98cc-1649519c82c8",
   "metadata": {},
   "outputs": [],
   "source": [
    "def expert(num):\n",
    "    num= str(num)\n",
    "    #print(type(num))\n",
    "    if '10' in num:\n",
    "        num = num.replace('10','expert')\n",
    "        #num = float(num)\n",
    "        return num\n",
    "    \n",
    "    if '11' in num:\n",
    "        num = num.replace('11','expert')\n",
    "        #num = float(num)\n",
    "        return num\n",
    "    \n",
    "    if '12' in num:\n",
    "        num = num.replace('12','expert')\n",
    "        #num = float(num)\n",
    "        return num\n",
    "    \n",
    "    if '13' in num:\n",
    "        num = num.replace('13','expert')\n",
    "        #num = float(num)\n",
    "        return num\n",
    "    \n",
    "    if '14' in num:\n",
    "        num = num.replace('14','expert')\n",
    "        #num = float(num)\n",
    "        return num\n",
    "    if '15' in num:\n",
    "        num = num.replace('15','expert')\n",
    "        #num = float(num)\n",
    "        return num\n",
    "    if '16' in num:\n",
    "        num = num.replace('16','expert')\n",
    "        #num = float(num)\n",
    "        return num\n",
    "    if '17' in num:\n",
    "        num = num.replace('17','expert')\n",
    "        #num = float(num)\n",
    "        return num\n",
    "    if '18' in num:\n",
    "        num = num.replace('18','expert')\n",
    "        #num = float(num)\n",
    "        return num\n",
    "    if '19' in num:\n",
    "        num = num.replace('19','expert')\n",
    "        #num = float(num)\n",
    "        return num\n",
    "    if '20' in num:\n",
    "        num = num.replace('20','expert')\n",
    "        #num = float(num)\n",
    "        return num\n",
    "    else:\n",
    "        #num = float(num)\n",
    "        return num"
   ]
  },
  {
   "cell_type": "code",
   "execution_count": 38,
   "id": "9b3de7ec-d671-43f3-9484-5e008056b044",
   "metadata": {},
   "outputs": [],
   "source": [
    "train.experience = train.experience.apply(expert)"
   ]
  },
  {
   "cell_type": "code",
   "execution_count": 39,
   "id": "96c64f01-118f-4780-afe6-d0237c83784f",
   "metadata": {},
   "outputs": [],
   "source": [
    "test.experience = test.experience.apply(expert)"
   ]
  },
  {
   "cell_type": "code",
   "execution_count": 40,
   "id": "206b1cdb-a4f0-4298-82f3-9ba5d497d7b4",
   "metadata": {},
   "outputs": [
    {
     "data": {
      "text/plain": [
       "expert    6958\n",
       "5         1148\n",
       "4         1104\n",
       "3         1084\n",
       "6          971\n",
       "2          905\n",
       "1          848\n",
       "7          835\n",
       "9          780\n",
       "8          643\n",
       "0           50\n",
       "Name: experience, dtype: int64"
      ]
     },
     "execution_count": 40,
     "metadata": {},
     "output_type": "execute_result"
    }
   ],
   "source": [
    "train.experience.value_counts()"
   ]
  },
  {
   "cell_type": "code",
   "execution_count": 41,
   "id": "cfc62244-d08c-4543-9f06-51cf61df9ca4",
   "metadata": {},
   "outputs": [],
   "source": [
    "def experiencia_nivel(num):\n",
    "    num= str(num)\n",
    "    #print(type(num))\n",
    "    if '0' in num:\n",
    "        num = num.replace('0','junior')\n",
    "        #num = float(num)\n",
    "        return num\n",
    "    \n",
    "    if '1' in num:\n",
    "        num = num.replace('1','junior')\n",
    "        #num = float(num)\n",
    "        return num\n",
    "    \n",
    "    if '2' in num:\n",
    "        num = num.replace('2','junior')\n",
    "        #num = float(num)\n",
    "        return num\n",
    "    \n",
    "    if '3' in num:\n",
    "        num = num.replace('3','intermediate')\n",
    "        #num = float(num)\n",
    "        return num\n",
    "    \n",
    "    if '4' in num:\n",
    "        num = num.replace('4','intermediate')\n",
    "        #num = float(num)\n",
    "        return num\n",
    "    if '5' in num:\n",
    "        num = num.replace('5','intermediate')\n",
    "        #num = float(num)\n",
    "        return num\n",
    "    if '6' in num:\n",
    "        num = num.replace('6','advanced')\n",
    "        #num = float(num)\n",
    "        return num\n",
    "    if '7' in num:\n",
    "        num = num.replace('7','advanced')\n",
    "        #num = float(num)\n",
    "        return num\n",
    "    if '8' in num:\n",
    "        num = num.replace('8','advanced')\n",
    "        #num = float(num)\n",
    "        return num\n",
    "    if '9' in num:\n",
    "        num = num.replace('9','advanced')\n",
    "        #num = float(num)\n",
    "        return num\n",
    "    else:\n",
    "        #num = float(num)\n",
    "        return num"
   ]
  },
  {
   "cell_type": "code",
   "execution_count": 42,
   "id": "f96f199d-f80c-44d6-8839-ed594dd5dae2",
   "metadata": {},
   "outputs": [],
   "source": [
    "train.experience = train.experience.apply(experiencia_nivel)"
   ]
  },
  {
   "cell_type": "code",
   "execution_count": 43,
   "id": "9b0414c3-fe61-485c-be7e-1f376523ffd5",
   "metadata": {},
   "outputs": [],
   "source": [
    "test.experience = test.experience.apply(experiencia_nivel)"
   ]
  },
  {
   "cell_type": "code",
   "execution_count": 44,
   "id": "e8b093c2-62df-4091-b829-e97768a9b1a8",
   "metadata": {},
   "outputs": [
    {
     "data": {
      "text/plain": [
       "expert          6958\n",
       "intermediate    3336\n",
       "advanced        3229\n",
       "junior          1803\n",
       "Name: experience, dtype: int64"
      ]
     },
     "execution_count": 44,
     "metadata": {},
     "output_type": "execute_result"
    }
   ],
   "source": [
    "train.experience.value_counts()"
   ]
  },
  {
   "cell_type": "code",
   "execution_count": 45,
   "id": "68b89141-2f49-4b32-b99c-1e824a525e2e",
   "metadata": {},
   "outputs": [
    {
     "data": {
      "text/plain": [
       "no_enrollment       11071\n",
       "Full time course     2990\n",
       "Part time course      963\n",
       "Name: enrolled_university, dtype: int64"
      ]
     },
     "execution_count": 45,
     "metadata": {},
     "output_type": "execute_result"
    }
   ],
   "source": [
    "train.enrolled_university.value_counts()"
   ]
  },
  {
   "cell_type": "code",
   "execution_count": 46,
   "id": "056571a7-046a-4fe7-8304-3cc66851e6a4",
   "metadata": {},
   "outputs": [],
   "source": [
    "def limpieza_enroll(num):\n",
    "    num= str(num)\n",
    "    #print(type(num))\n",
    "    if 'nan' in num:\n",
    "        num = num.replace('nan','no_enrollment')\n",
    "        #num = float(num)\n",
    "        return num\n",
    "    else:\n",
    "        #num = float(num)\n",
    "        return num"
   ]
  },
  {
   "cell_type": "code",
   "execution_count": 47,
   "id": "f99b0065-5dc6-44ff-bedf-00bb3cb7ccb9",
   "metadata": {},
   "outputs": [],
   "source": [
    "train.enrolled_university = train.enrolled_university.apply(limpieza_enroll)"
   ]
  },
  {
   "cell_type": "code",
   "execution_count": 48,
   "id": "95238c6a-ee40-4068-a153-87d154f8c01b",
   "metadata": {},
   "outputs": [],
   "source": [
    "test.enrolled_university = test.enrolled_university.apply(limpieza_enroll)"
   ]
  },
  {
   "cell_type": "code",
   "execution_count": 49,
   "id": "a27197b4-2375-483c-9a77-c611ade08013",
   "metadata": {},
   "outputs": [
    {
     "data": {
      "text/plain": [
       "no_enrollment       11373\n",
       "Full time course     2990\n",
       "Part time course      963\n",
       "Name: enrolled_university, dtype: int64"
      ]
     },
     "execution_count": 49,
     "metadata": {},
     "output_type": "execute_result"
    }
   ],
   "source": [
    "train.enrolled_university.value_counts()"
   ]
  },
  {
   "cell_type": "code",
   "execution_count": null,
   "id": "1f56a78a-274d-4ed6-956b-67e9e7f5c85a",
   "metadata": {},
   "outputs": [],
   "source": []
  },
  {
   "cell_type": "code",
   "execution_count": 50,
   "id": "4e054adf-ac61-49e5-98a0-d132a704bb21",
   "metadata": {
    "tags": []
   },
   "outputs": [
    {
     "name": "stdout",
     "output_type": "stream",
     "text": [
      "Requirement already satisfied: feature-engine in c:\\users\\monla\\anaconda3\\lib\\site-packages (1.5.2)\n",
      "Requirement already satisfied: scipy>=1.4.1 in c:\\users\\monla\\anaconda3\\lib\\site-packages (from feature-engine) (1.7.3)\n",
      "Requirement already satisfied: scikit-learn>=1.0.0 in c:\\users\\monla\\anaconda3\\lib\\site-packages (from feature-engine) (1.0.2)\n",
      "Requirement already satisfied: pandas>=1.0.3 in c:\\users\\monla\\anaconda3\\lib\\site-packages (from feature-engine) (1.4.2)\n",
      "Requirement already satisfied: statsmodels>=0.11.1 in c:\\users\\monla\\anaconda3\\lib\\site-packages (from feature-engine) (0.13.2)\n",
      "Requirement already satisfied: numpy>=1.18.2 in c:\\users\\monla\\anaconda3\\lib\\site-packages (from feature-engine) (1.21.5)\n",
      "Requirement already satisfied: python-dateutil>=2.8.1 in c:\\users\\monla\\anaconda3\\lib\\site-packages (from pandas>=1.0.3->feature-engine) (2.8.2)\n",
      "Requirement already satisfied: pytz>=2020.1 in c:\\users\\monla\\anaconda3\\lib\\site-packages (from pandas>=1.0.3->feature-engine) (2021.3)\n",
      "Requirement already satisfied: six>=1.5 in c:\\users\\monla\\anaconda3\\lib\\site-packages (from python-dateutil>=2.8.1->pandas>=1.0.3->feature-engine) (1.16.0)\n",
      "Requirement already satisfied: joblib>=0.11 in c:\\users\\monla\\anaconda3\\lib\\site-packages (from scikit-learn>=1.0.0->feature-engine) (1.1.0)\n",
      "Requirement already satisfied: threadpoolctl>=2.0.0 in c:\\users\\monla\\anaconda3\\lib\\site-packages (from scikit-learn>=1.0.0->feature-engine) (2.2.0)\n",
      "Requirement already satisfied: patsy>=0.5.2 in c:\\users\\monla\\anaconda3\\lib\\site-packages (from statsmodels>=0.11.1->feature-engine) (0.5.2)\n",
      "Requirement already satisfied: packaging>=21.3 in c:\\users\\monla\\anaconda3\\lib\\site-packages (from statsmodels>=0.11.1->feature-engine) (21.3)\n",
      "Requirement already satisfied: pyparsing!=3.0.5,>=2.0.2 in c:\\users\\monla\\anaconda3\\lib\\site-packages (from packaging>=21.3->statsmodels>=0.11.1->feature-engine) (3.0.4)\n"
     ]
    }
   ],
   "source": [
    "!pip install feature-engine"
   ]
  },
  {
   "cell_type": "code",
   "execution_count": 51,
   "id": "68faf845-1b9a-44e1-ac62-b9ccae2ba9d6",
   "metadata": {},
   "outputs": [],
   "source": [
    "from sklearn.pipeline import Pipeline\n",
    "from sklearn.linear_model import LinearRegression, Ridge, Lasso\n",
    "from sklearn.preprocessing import RobustScaler, OrdinalEncoder\n",
    "from sklearn.model_selection import train_test_split\n",
    "from feature_engine import imputation as imp\n",
    "from feature_engine import encoding as enc\n",
    "from feature_engine.wrappers import SklearnTransformerWrapper\n",
    "from feature_engine.encoding import OneHotEncoder\n",
    "from feature_engine import imputation as mdi\n",
    "\n",
    "\n",
    "from sklearn.preprocessing import StandardScaler\n",
    "from sklearn.preprocessing import RobustScaler\n",
    "\n",
    "from feature_engine.wrappers import SklearnTransformerWrapper\n",
    "\n",
    "\n",
    "from sklearn.linear_model import LogisticRegression\n",
    "from sklearn import metrics\n",
    "\n",
    "import sklearn.metrics"
   ]
  },
  {
   "cell_type": "code",
   "execution_count": 52,
   "id": "91586c7f-c0db-4fb5-813e-ab94727c993c",
   "metadata": {},
   "outputs": [
    {
     "data": {
      "text/plain": [
       "Index(['city_development_index', 'gender', 'relevent_experience',\n",
       "       'enrolled_university', 'education_level', 'experience',\n",
       "       'training_hours', 'target'],\n",
       "      dtype='object')"
      ]
     },
     "execution_count": 52,
     "metadata": {},
     "output_type": "execute_result"
    }
   ],
   "source": [
    "train.columns"
   ]
  },
  {
   "cell_type": "code",
   "execution_count": 53,
   "id": "ff66de4e-0aad-4c50-8e3d-19ddbdc62eb5",
   "metadata": {},
   "outputs": [
    {
     "data": {
      "text/html": [
       "<div>\n",
       "<style scoped>\n",
       "    .dataframe tbody tr th:only-of-type {\n",
       "        vertical-align: middle;\n",
       "    }\n",
       "\n",
       "    .dataframe tbody tr th {\n",
       "        vertical-align: top;\n",
       "    }\n",
       "\n",
       "    .dataframe thead th {\n",
       "        text-align: right;\n",
       "    }\n",
       "</style>\n",
       "<table border=\"1\" class=\"dataframe\">\n",
       "  <thead>\n",
       "    <tr style=\"text-align: right;\">\n",
       "      <th></th>\n",
       "      <th>city_development_index</th>\n",
       "      <th>gender</th>\n",
       "      <th>relevent_experience</th>\n",
       "      <th>enrolled_university</th>\n",
       "      <th>education_level</th>\n",
       "      <th>experience</th>\n",
       "      <th>training_hours</th>\n",
       "      <th>target</th>\n",
       "    </tr>\n",
       "  </thead>\n",
       "  <tbody>\n",
       "    <tr>\n",
       "      <th>0</th>\n",
       "      <td>0.920</td>\n",
       "      <td>Male</td>\n",
       "      <td>Has relevent experience</td>\n",
       "      <td>no_enrollment</td>\n",
       "      <td>Graduate</td>\n",
       "      <td>expert</td>\n",
       "      <td>36</td>\n",
       "      <td>1.0</td>\n",
       "    </tr>\n",
       "    <tr>\n",
       "      <th>1</th>\n",
       "      <td>0.776</td>\n",
       "      <td>Male</td>\n",
       "      <td>No relevent experience</td>\n",
       "      <td>no_enrollment</td>\n",
       "      <td>Graduate</td>\n",
       "      <td>expert</td>\n",
       "      <td>47</td>\n",
       "      <td>0.0</td>\n",
       "    </tr>\n",
       "    <tr>\n",
       "      <th>2</th>\n",
       "      <td>0.624</td>\n",
       "      <td>Male</td>\n",
       "      <td>No relevent experience</td>\n",
       "      <td>Full time course</td>\n",
       "      <td>Graduate</td>\n",
       "      <td>intermediate</td>\n",
       "      <td>83</td>\n",
       "      <td>0.0</td>\n",
       "    </tr>\n",
       "    <tr>\n",
       "      <th>3</th>\n",
       "      <td>0.789</td>\n",
       "      <td>Male</td>\n",
       "      <td>No relevent experience</td>\n",
       "      <td>no_enrollment</td>\n",
       "      <td>Graduate</td>\n",
       "      <td>junior</td>\n",
       "      <td>52</td>\n",
       "      <td>1.0</td>\n",
       "    </tr>\n",
       "    <tr>\n",
       "      <th>4</th>\n",
       "      <td>0.764</td>\n",
       "      <td>Male</td>\n",
       "      <td>Has relevent experience</td>\n",
       "      <td>Part time course</td>\n",
       "      <td>Graduate</td>\n",
       "      <td>expert</td>\n",
       "      <td>24</td>\n",
       "      <td>1.0</td>\n",
       "    </tr>\n",
       "  </tbody>\n",
       "</table>\n",
       "</div>"
      ],
      "text/plain": [
       "   city_development_index gender      relevent_experience enrolled_university  \\\n",
       "0                   0.920   Male  Has relevent experience       no_enrollment   \n",
       "1                   0.776   Male   No relevent experience       no_enrollment   \n",
       "2                   0.624   Male   No relevent experience    Full time course   \n",
       "3                   0.789   Male   No relevent experience       no_enrollment   \n",
       "4                   0.764   Male  Has relevent experience    Part time course   \n",
       "\n",
       "  education_level    experience  training_hours  target  \n",
       "0        Graduate        expert              36     1.0  \n",
       "1        Graduate        expert              47     0.0  \n",
       "2        Graduate  intermediate              83     0.0  \n",
       "3        Graduate        junior              52     1.0  \n",
       "4        Graduate        expert              24     1.0  "
      ]
     },
     "execution_count": 53,
     "metadata": {},
     "output_type": "execute_result"
    }
   ],
   "source": [
    "train.head()"
   ]
  },
  {
   "cell_type": "code",
   "execution_count": 54,
   "id": "68ff4ad9-c602-4bd2-8a7e-69d54d4810c5",
   "metadata": {},
   "outputs": [
    {
     "name": "stdout",
     "output_type": "stream",
     "text": [
      "<class 'pandas.core.frame.DataFrame'>\n",
      "RangeIndex: 15326 entries, 0 to 15325\n",
      "Data columns (total 8 columns):\n",
      " #   Column                  Non-Null Count  Dtype  \n",
      "---  ------                  --------------  -----  \n",
      " 0   city_development_index  15326 non-null  float64\n",
      " 1   gender                  15326 non-null  object \n",
      " 2   relevent_experience     15326 non-null  object \n",
      " 3   enrolled_university     15326 non-null  object \n",
      " 4   education_level         15326 non-null  object \n",
      " 5   experience              15326 non-null  object \n",
      " 6   training_hours          15326 non-null  int64  \n",
      " 7   target                  15326 non-null  float64\n",
      "dtypes: float64(2), int64(1), object(5)\n",
      "memory usage: 958.0+ KB\n"
     ]
    }
   ],
   "source": [
    "train.info()"
   ]
  },
  {
   "cell_type": "code",
   "execution_count": 55,
   "id": "32556a8a-2984-4599-b7de-a7b0121d3ee9",
   "metadata": {},
   "outputs": [],
   "source": [
    "X_train, X_test, y_train, y_test = train_test_split(train.drop(columns = ['target']), train.target, test_size = 0.3, random_state = 7)"
   ]
  },
  {
   "cell_type": "code",
   "execution_count": 56,
   "id": "4119555b-6452-4045-b8a0-c80191164650",
   "metadata": {},
   "outputs": [
    {
     "name": "stdout",
     "output_type": "stream",
     "text": [
      "[Pipeline] ........... (step 1 of 2) Processing escalar, total=   0.0s\n",
      "[Pipeline] ........... (step 2 of 2) Processing one_hot, total=   0.0s\n"
     ]
    },
    {
     "data": {
      "text/plain": [
       "Pipeline(steps=[('escalar',\n",
       "                 SklearnTransformerWrapper(transformer=StandardScaler(),\n",
       "                                           variables=['training_hours'])),\n",
       "                ('one_hot',\n",
       "                 OneHotEncoder(variables=['relevent_experience', 'experience',\n",
       "                                          'enrolled_university',\n",
       "                                          'education_level', 'gender']))],\n",
       "         verbose=True)"
      ]
     },
     "execution_count": 56,
     "metadata": {},
     "output_type": "execute_result"
    }
   ],
   "source": [
    "pipeline_competencia = Pipeline([('escalar', SklearnTransformerWrapper(StandardScaler(), variables=['training_hours'])),\n",
    "                                   ('one_hot', enc.OneHotEncoder(variables = ['relevent_experience', 'experience','enrolled_university', 'education_level','gender'])),\n",
    "                                   #('modelo', LogisticRegression())\n",
    "                                   ], verbose = True)\n",
    "pipeline_competencia.fit(X_train, y_train)"
   ]
  },
  {
   "cell_type": "code",
   "execution_count": 57,
   "id": "12fa8f7f-1546-4558-936c-bcdb464677a1",
   "metadata": {},
   "outputs": [
    {
     "data": {
      "text/plain": [
       "(10728, 19)"
      ]
     },
     "execution_count": 57,
     "metadata": {},
     "output_type": "execute_result"
    }
   ],
   "source": [
    "data=pipeline_competencia.transform(X_train)\n",
    "data.shape"
   ]
  },
  {
   "cell_type": "code",
   "execution_count": 58,
   "id": "1e7c3f03-69c9-4bba-8234-dec1446fd78d",
   "metadata": {},
   "outputs": [
    {
     "data": {
      "text/plain": [
       "(3832, 19)"
      ]
     },
     "execution_count": 58,
     "metadata": {},
     "output_type": "execute_result"
    }
   ],
   "source": [
    "data_test=pipeline_competencia.transform(test)\n",
    "data_test.shape"
   ]
  },
  {
   "cell_type": "code",
   "execution_count": 59,
   "id": "a2c5eb57-66fb-4b6b-a18e-8689a7847cc8",
   "metadata": {},
   "outputs": [],
   "source": [
    "from sklearn.tree import DecisionTreeClassifier\n",
    "from sklearn.model_selection import GridSearchCV\n",
    "from sklearn import tree"
   ]
  },
  {
   "cell_type": "code",
   "execution_count": 60,
   "id": "b1e304bd-6de4-4eab-8b5e-59a59cbdc167",
   "metadata": {},
   "outputs": [
    {
     "data": {
      "text/html": [
       "<div>\n",
       "<style scoped>\n",
       "    .dataframe tbody tr th:only-of-type {\n",
       "        vertical-align: middle;\n",
       "    }\n",
       "\n",
       "    .dataframe tbody tr th {\n",
       "        vertical-align: top;\n",
       "    }\n",
       "\n",
       "    .dataframe thead th {\n",
       "        text-align: right;\n",
       "    }\n",
       "</style>\n",
       "<table border=\"1\" class=\"dataframe\">\n",
       "  <thead>\n",
       "    <tr style=\"text-align: right;\">\n",
       "      <th></th>\n",
       "      <th>city_development_index</th>\n",
       "      <th>gender</th>\n",
       "      <th>relevent_experience</th>\n",
       "      <th>enrolled_university</th>\n",
       "      <th>education_level</th>\n",
       "      <th>experience</th>\n",
       "      <th>training_hours</th>\n",
       "    </tr>\n",
       "  </thead>\n",
       "  <tbody>\n",
       "    <tr>\n",
       "      <th>1421</th>\n",
       "      <td>0.848</td>\n",
       "      <td>Male</td>\n",
       "      <td>Has relevent experience</td>\n",
       "      <td>Full time course</td>\n",
       "      <td>Graduate</td>\n",
       "      <td>expert</td>\n",
       "      <td>34</td>\n",
       "    </tr>\n",
       "    <tr>\n",
       "      <th>5453</th>\n",
       "      <td>0.896</td>\n",
       "      <td>Male</td>\n",
       "      <td>No relevent experience</td>\n",
       "      <td>no_enrollment</td>\n",
       "      <td>Graduate</td>\n",
       "      <td>expert</td>\n",
       "      <td>5</td>\n",
       "    </tr>\n",
       "    <tr>\n",
       "      <th>196</th>\n",
       "      <td>0.920</td>\n",
       "      <td>Male</td>\n",
       "      <td>Has relevent experience</td>\n",
       "      <td>no_enrollment</td>\n",
       "      <td>Graduate</td>\n",
       "      <td>expert</td>\n",
       "      <td>74</td>\n",
       "    </tr>\n",
       "    <tr>\n",
       "      <th>3622</th>\n",
       "      <td>0.910</td>\n",
       "      <td>Male</td>\n",
       "      <td>Has relevent experience</td>\n",
       "      <td>no_enrollment</td>\n",
       "      <td>Graduate</td>\n",
       "      <td>expert</td>\n",
       "      <td>24</td>\n",
       "    </tr>\n",
       "    <tr>\n",
       "      <th>1498</th>\n",
       "      <td>0.579</td>\n",
       "      <td>Male</td>\n",
       "      <td>Has relevent experience</td>\n",
       "      <td>no_enrollment</td>\n",
       "      <td>Graduate</td>\n",
       "      <td>expert</td>\n",
       "      <td>24</td>\n",
       "    </tr>\n",
       "    <tr>\n",
       "      <th>...</th>\n",
       "      <td>...</td>\n",
       "      <td>...</td>\n",
       "      <td>...</td>\n",
       "      <td>...</td>\n",
       "      <td>...</td>\n",
       "      <td>...</td>\n",
       "      <td>...</td>\n",
       "    </tr>\n",
       "    <tr>\n",
       "      <th>5699</th>\n",
       "      <td>0.647</td>\n",
       "      <td>Male</td>\n",
       "      <td>No relevent experience</td>\n",
       "      <td>Full time course</td>\n",
       "      <td>Graduate</td>\n",
       "      <td>expert</td>\n",
       "      <td>23</td>\n",
       "    </tr>\n",
       "    <tr>\n",
       "      <th>10742</th>\n",
       "      <td>0.924</td>\n",
       "      <td>Male</td>\n",
       "      <td>Has relevent experience</td>\n",
       "      <td>no_enrollment</td>\n",
       "      <td>Masters</td>\n",
       "      <td>expert</td>\n",
       "      <td>80</td>\n",
       "    </tr>\n",
       "    <tr>\n",
       "      <th>537</th>\n",
       "      <td>0.920</td>\n",
       "      <td>Male</td>\n",
       "      <td>Has relevent experience</td>\n",
       "      <td>no_enrollment</td>\n",
       "      <td>Primary School</td>\n",
       "      <td>expert</td>\n",
       "      <td>70</td>\n",
       "    </tr>\n",
       "    <tr>\n",
       "      <th>9412</th>\n",
       "      <td>0.624</td>\n",
       "      <td>Male</td>\n",
       "      <td>Has relevent experience</td>\n",
       "      <td>no_enrollment</td>\n",
       "      <td>Graduate</td>\n",
       "      <td>intermediate</td>\n",
       "      <td>14</td>\n",
       "    </tr>\n",
       "    <tr>\n",
       "      <th>12463</th>\n",
       "      <td>0.915</td>\n",
       "      <td>Male</td>\n",
       "      <td>Has relevent experience</td>\n",
       "      <td>no_enrollment</td>\n",
       "      <td>High School</td>\n",
       "      <td>junior</td>\n",
       "      <td>39</td>\n",
       "    </tr>\n",
       "  </tbody>\n",
       "</table>\n",
       "<p>10728 rows × 7 columns</p>\n",
       "</div>"
      ],
      "text/plain": [
       "       city_development_index gender      relevent_experience  \\\n",
       "1421                    0.848   Male  Has relevent experience   \n",
       "5453                    0.896   Male   No relevent experience   \n",
       "196                     0.920   Male  Has relevent experience   \n",
       "3622                    0.910   Male  Has relevent experience   \n",
       "1498                    0.579   Male  Has relevent experience   \n",
       "...                       ...    ...                      ...   \n",
       "5699                    0.647   Male   No relevent experience   \n",
       "10742                   0.924   Male  Has relevent experience   \n",
       "537                     0.920   Male  Has relevent experience   \n",
       "9412                    0.624   Male  Has relevent experience   \n",
       "12463                   0.915   Male  Has relevent experience   \n",
       "\n",
       "      enrolled_university education_level    experience  training_hours  \n",
       "1421     Full time course        Graduate        expert              34  \n",
       "5453        no_enrollment        Graduate        expert               5  \n",
       "196         no_enrollment        Graduate        expert              74  \n",
       "3622        no_enrollment        Graduate        expert              24  \n",
       "1498        no_enrollment        Graduate        expert              24  \n",
       "...                   ...             ...           ...             ...  \n",
       "5699     Full time course        Graduate        expert              23  \n",
       "10742       no_enrollment         Masters        expert              80  \n",
       "537         no_enrollment  Primary School        expert              70  \n",
       "9412        no_enrollment        Graduate  intermediate              14  \n",
       "12463       no_enrollment     High School        junior              39  \n",
       "\n",
       "[10728 rows x 7 columns]"
      ]
     },
     "execution_count": 60,
     "metadata": {},
     "output_type": "execute_result"
    }
   ],
   "source": [
    "X_train"
   ]
  },
  {
   "cell_type": "code",
   "execution_count": 61,
   "id": "1b250e5e-45a3-48e5-9891-479b21f406d3",
   "metadata": {},
   "outputs": [
    {
     "data": {
      "text/html": [
       "<div>\n",
       "<style scoped>\n",
       "    .dataframe tbody tr th:only-of-type {\n",
       "        vertical-align: middle;\n",
       "    }\n",
       "\n",
       "    .dataframe tbody tr th {\n",
       "        vertical-align: top;\n",
       "    }\n",
       "\n",
       "    .dataframe thead th {\n",
       "        text-align: right;\n",
       "    }\n",
       "</style>\n",
       "<table border=\"1\" class=\"dataframe\">\n",
       "  <thead>\n",
       "    <tr style=\"text-align: right;\">\n",
       "      <th></th>\n",
       "      <th>city_development_index</th>\n",
       "      <th>training_hours</th>\n",
       "      <th>relevent_experience_Has relevent experience</th>\n",
       "      <th>relevent_experience_No relevent experience</th>\n",
       "      <th>experience_expert</th>\n",
       "      <th>experience_intermediate</th>\n",
       "      <th>experience_junior</th>\n",
       "      <th>experience_advanced</th>\n",
       "      <th>enrolled_university_Full time course</th>\n",
       "      <th>enrolled_university_no_enrollment</th>\n",
       "      <th>enrolled_university_Part time course</th>\n",
       "      <th>education_level_Graduate</th>\n",
       "      <th>education_level_Primary School</th>\n",
       "      <th>education_level_Masters</th>\n",
       "      <th>education_level_Phd</th>\n",
       "      <th>education_level_High School</th>\n",
       "      <th>gender_Male</th>\n",
       "      <th>gender_Female</th>\n",
       "      <th>gender_Other</th>\n",
       "    </tr>\n",
       "  </thead>\n",
       "  <tbody>\n",
       "    <tr>\n",
       "      <th>1421</th>\n",
       "      <td>0.848</td>\n",
       "      <td>-0.527002</td>\n",
       "      <td>1</td>\n",
       "      <td>0</td>\n",
       "      <td>1</td>\n",
       "      <td>0</td>\n",
       "      <td>0</td>\n",
       "      <td>0</td>\n",
       "      <td>1</td>\n",
       "      <td>0</td>\n",
       "      <td>0</td>\n",
       "      <td>1</td>\n",
       "      <td>0</td>\n",
       "      <td>0</td>\n",
       "      <td>0</td>\n",
       "      <td>0</td>\n",
       "      <td>1</td>\n",
       "      <td>0</td>\n",
       "      <td>0</td>\n",
       "    </tr>\n",
       "    <tr>\n",
       "      <th>5453</th>\n",
       "      <td>0.896</td>\n",
       "      <td>-1.012235</td>\n",
       "      <td>0</td>\n",
       "      <td>1</td>\n",
       "      <td>1</td>\n",
       "      <td>0</td>\n",
       "      <td>0</td>\n",
       "      <td>0</td>\n",
       "      <td>0</td>\n",
       "      <td>1</td>\n",
       "      <td>0</td>\n",
       "      <td>1</td>\n",
       "      <td>0</td>\n",
       "      <td>0</td>\n",
       "      <td>0</td>\n",
       "      <td>0</td>\n",
       "      <td>1</td>\n",
       "      <td>0</td>\n",
       "      <td>0</td>\n",
       "    </tr>\n",
       "    <tr>\n",
       "      <th>196</th>\n",
       "      <td>0.920</td>\n",
       "      <td>0.142284</td>\n",
       "      <td>1</td>\n",
       "      <td>0</td>\n",
       "      <td>1</td>\n",
       "      <td>0</td>\n",
       "      <td>0</td>\n",
       "      <td>0</td>\n",
       "      <td>0</td>\n",
       "      <td>1</td>\n",
       "      <td>0</td>\n",
       "      <td>1</td>\n",
       "      <td>0</td>\n",
       "      <td>0</td>\n",
       "      <td>0</td>\n",
       "      <td>0</td>\n",
       "      <td>1</td>\n",
       "      <td>0</td>\n",
       "      <td>0</td>\n",
       "    </tr>\n",
       "    <tr>\n",
       "      <th>3622</th>\n",
       "      <td>0.910</td>\n",
       "      <td>-0.694324</td>\n",
       "      <td>1</td>\n",
       "      <td>0</td>\n",
       "      <td>1</td>\n",
       "      <td>0</td>\n",
       "      <td>0</td>\n",
       "      <td>0</td>\n",
       "      <td>0</td>\n",
       "      <td>1</td>\n",
       "      <td>0</td>\n",
       "      <td>1</td>\n",
       "      <td>0</td>\n",
       "      <td>0</td>\n",
       "      <td>0</td>\n",
       "      <td>0</td>\n",
       "      <td>1</td>\n",
       "      <td>0</td>\n",
       "      <td>0</td>\n",
       "    </tr>\n",
       "    <tr>\n",
       "      <th>1498</th>\n",
       "      <td>0.579</td>\n",
       "      <td>-0.694324</td>\n",
       "      <td>1</td>\n",
       "      <td>0</td>\n",
       "      <td>1</td>\n",
       "      <td>0</td>\n",
       "      <td>0</td>\n",
       "      <td>0</td>\n",
       "      <td>0</td>\n",
       "      <td>1</td>\n",
       "      <td>0</td>\n",
       "      <td>1</td>\n",
       "      <td>0</td>\n",
       "      <td>0</td>\n",
       "      <td>0</td>\n",
       "      <td>0</td>\n",
       "      <td>1</td>\n",
       "      <td>0</td>\n",
       "      <td>0</td>\n",
       "    </tr>\n",
       "    <tr>\n",
       "      <th>...</th>\n",
       "      <td>...</td>\n",
       "      <td>...</td>\n",
       "      <td>...</td>\n",
       "      <td>...</td>\n",
       "      <td>...</td>\n",
       "      <td>...</td>\n",
       "      <td>...</td>\n",
       "      <td>...</td>\n",
       "      <td>...</td>\n",
       "      <td>...</td>\n",
       "      <td>...</td>\n",
       "      <td>...</td>\n",
       "      <td>...</td>\n",
       "      <td>...</td>\n",
       "      <td>...</td>\n",
       "      <td>...</td>\n",
       "      <td>...</td>\n",
       "      <td>...</td>\n",
       "      <td>...</td>\n",
       "    </tr>\n",
       "    <tr>\n",
       "      <th>5699</th>\n",
       "      <td>0.647</td>\n",
       "      <td>-0.711056</td>\n",
       "      <td>0</td>\n",
       "      <td>1</td>\n",
       "      <td>1</td>\n",
       "      <td>0</td>\n",
       "      <td>0</td>\n",
       "      <td>0</td>\n",
       "      <td>1</td>\n",
       "      <td>0</td>\n",
       "      <td>0</td>\n",
       "      <td>1</td>\n",
       "      <td>0</td>\n",
       "      <td>0</td>\n",
       "      <td>0</td>\n",
       "      <td>0</td>\n",
       "      <td>1</td>\n",
       "      <td>0</td>\n",
       "      <td>0</td>\n",
       "    </tr>\n",
       "    <tr>\n",
       "      <th>10742</th>\n",
       "      <td>0.924</td>\n",
       "      <td>0.242677</td>\n",
       "      <td>1</td>\n",
       "      <td>0</td>\n",
       "      <td>1</td>\n",
       "      <td>0</td>\n",
       "      <td>0</td>\n",
       "      <td>0</td>\n",
       "      <td>0</td>\n",
       "      <td>1</td>\n",
       "      <td>0</td>\n",
       "      <td>0</td>\n",
       "      <td>0</td>\n",
       "      <td>1</td>\n",
       "      <td>0</td>\n",
       "      <td>0</td>\n",
       "      <td>1</td>\n",
       "      <td>0</td>\n",
       "      <td>0</td>\n",
       "    </tr>\n",
       "    <tr>\n",
       "      <th>537</th>\n",
       "      <td>0.920</td>\n",
       "      <td>0.075356</td>\n",
       "      <td>1</td>\n",
       "      <td>0</td>\n",
       "      <td>1</td>\n",
       "      <td>0</td>\n",
       "      <td>0</td>\n",
       "      <td>0</td>\n",
       "      <td>0</td>\n",
       "      <td>1</td>\n",
       "      <td>0</td>\n",
       "      <td>0</td>\n",
       "      <td>1</td>\n",
       "      <td>0</td>\n",
       "      <td>0</td>\n",
       "      <td>0</td>\n",
       "      <td>1</td>\n",
       "      <td>0</td>\n",
       "      <td>0</td>\n",
       "    </tr>\n",
       "    <tr>\n",
       "      <th>9412</th>\n",
       "      <td>0.624</td>\n",
       "      <td>-0.861645</td>\n",
       "      <td>1</td>\n",
       "      <td>0</td>\n",
       "      <td>0</td>\n",
       "      <td>1</td>\n",
       "      <td>0</td>\n",
       "      <td>0</td>\n",
       "      <td>0</td>\n",
       "      <td>1</td>\n",
       "      <td>0</td>\n",
       "      <td>1</td>\n",
       "      <td>0</td>\n",
       "      <td>0</td>\n",
       "      <td>0</td>\n",
       "      <td>0</td>\n",
       "      <td>1</td>\n",
       "      <td>0</td>\n",
       "      <td>0</td>\n",
       "    </tr>\n",
       "    <tr>\n",
       "      <th>12463</th>\n",
       "      <td>0.915</td>\n",
       "      <td>-0.443341</td>\n",
       "      <td>1</td>\n",
       "      <td>0</td>\n",
       "      <td>0</td>\n",
       "      <td>0</td>\n",
       "      <td>1</td>\n",
       "      <td>0</td>\n",
       "      <td>0</td>\n",
       "      <td>1</td>\n",
       "      <td>0</td>\n",
       "      <td>0</td>\n",
       "      <td>0</td>\n",
       "      <td>0</td>\n",
       "      <td>0</td>\n",
       "      <td>1</td>\n",
       "      <td>1</td>\n",
       "      <td>0</td>\n",
       "      <td>0</td>\n",
       "    </tr>\n",
       "  </tbody>\n",
       "</table>\n",
       "<p>10728 rows × 19 columns</p>\n",
       "</div>"
      ],
      "text/plain": [
       "       city_development_index  training_hours  \\\n",
       "1421                    0.848       -0.527002   \n",
       "5453                    0.896       -1.012235   \n",
       "196                     0.920        0.142284   \n",
       "3622                    0.910       -0.694324   \n",
       "1498                    0.579       -0.694324   \n",
       "...                       ...             ...   \n",
       "5699                    0.647       -0.711056   \n",
       "10742                   0.924        0.242677   \n",
       "537                     0.920        0.075356   \n",
       "9412                    0.624       -0.861645   \n",
       "12463                   0.915       -0.443341   \n",
       "\n",
       "       relevent_experience_Has relevent experience  \\\n",
       "1421                                             1   \n",
       "5453                                             0   \n",
       "196                                              1   \n",
       "3622                                             1   \n",
       "1498                                             1   \n",
       "...                                            ...   \n",
       "5699                                             0   \n",
       "10742                                            1   \n",
       "537                                              1   \n",
       "9412                                             1   \n",
       "12463                                            1   \n",
       "\n",
       "       relevent_experience_No relevent experience  experience_expert  \\\n",
       "1421                                            0                  1   \n",
       "5453                                            1                  1   \n",
       "196                                             0                  1   \n",
       "3622                                            0                  1   \n",
       "1498                                            0                  1   \n",
       "...                                           ...                ...   \n",
       "5699                                            1                  1   \n",
       "10742                                           0                  1   \n",
       "537                                             0                  1   \n",
       "9412                                            0                  0   \n",
       "12463                                           0                  0   \n",
       "\n",
       "       experience_intermediate  experience_junior  experience_advanced  \\\n",
       "1421                         0                  0                    0   \n",
       "5453                         0                  0                    0   \n",
       "196                          0                  0                    0   \n",
       "3622                         0                  0                    0   \n",
       "1498                         0                  0                    0   \n",
       "...                        ...                ...                  ...   \n",
       "5699                         0                  0                    0   \n",
       "10742                        0                  0                    0   \n",
       "537                          0                  0                    0   \n",
       "9412                         1                  0                    0   \n",
       "12463                        0                  1                    0   \n",
       "\n",
       "       enrolled_university_Full time course  \\\n",
       "1421                                      1   \n",
       "5453                                      0   \n",
       "196                                       0   \n",
       "3622                                      0   \n",
       "1498                                      0   \n",
       "...                                     ...   \n",
       "5699                                      1   \n",
       "10742                                     0   \n",
       "537                                       0   \n",
       "9412                                      0   \n",
       "12463                                     0   \n",
       "\n",
       "       enrolled_university_no_enrollment  \\\n",
       "1421                                   0   \n",
       "5453                                   1   \n",
       "196                                    1   \n",
       "3622                                   1   \n",
       "1498                                   1   \n",
       "...                                  ...   \n",
       "5699                                   0   \n",
       "10742                                  1   \n",
       "537                                    1   \n",
       "9412                                   1   \n",
       "12463                                  1   \n",
       "\n",
       "       enrolled_university_Part time course  education_level_Graduate  \\\n",
       "1421                                      0                         1   \n",
       "5453                                      0                         1   \n",
       "196                                       0                         1   \n",
       "3622                                      0                         1   \n",
       "1498                                      0                         1   \n",
       "...                                     ...                       ...   \n",
       "5699                                      0                         1   \n",
       "10742                                     0                         0   \n",
       "537                                       0                         0   \n",
       "9412                                      0                         1   \n",
       "12463                                     0                         0   \n",
       "\n",
       "       education_level_Primary School  education_level_Masters  \\\n",
       "1421                                0                        0   \n",
       "5453                                0                        0   \n",
       "196                                 0                        0   \n",
       "3622                                0                        0   \n",
       "1498                                0                        0   \n",
       "...                               ...                      ...   \n",
       "5699                                0                        0   \n",
       "10742                               0                        1   \n",
       "537                                 1                        0   \n",
       "9412                                0                        0   \n",
       "12463                               0                        0   \n",
       "\n",
       "       education_level_Phd  education_level_High School  gender_Male  \\\n",
       "1421                     0                            0            1   \n",
       "5453                     0                            0            1   \n",
       "196                      0                            0            1   \n",
       "3622                     0                            0            1   \n",
       "1498                     0                            0            1   \n",
       "...                    ...                          ...          ...   \n",
       "5699                     0                            0            1   \n",
       "10742                    0                            0            1   \n",
       "537                      0                            0            1   \n",
       "9412                     0                            0            1   \n",
       "12463                    0                            1            1   \n",
       "\n",
       "       gender_Female  gender_Other  \n",
       "1421               0             0  \n",
       "5453               0             0  \n",
       "196                0             0  \n",
       "3622               0             0  \n",
       "1498               0             0  \n",
       "...              ...           ...  \n",
       "5699               0             0  \n",
       "10742              0             0  \n",
       "537                0             0  \n",
       "9412               0             0  \n",
       "12463              0             0  \n",
       "\n",
       "[10728 rows x 19 columns]"
      ]
     },
     "execution_count": 61,
     "metadata": {},
     "output_type": "execute_result"
    }
   ],
   "source": [
    "data"
   ]
  },
  {
   "cell_type": "code",
   "execution_count": 62,
   "id": "eb386bcd-1e87-44d2-896b-8d69a9c90338",
   "metadata": {},
   "outputs": [],
   "source": [
    "dec_tree = DecisionTreeClassifier()\n",
    "params = {'splitter':['random', 'best'], 'max_depth' : [3,6,10], 'random_state':[301]}\n",
    "cvtree = GridSearchCV(dec_tree, params).fit(data, y_train)"
   ]
  },
  {
   "cell_type": "code",
   "execution_count": 63,
   "id": "489dcaf6-55cf-4bcd-9abb-1a1dc1458948",
   "metadata": {},
   "outputs": [
    {
     "data": {
      "text/plain": [
       "DecisionTreeClassifier(max_depth=3, random_state=301, splitter='random')"
      ]
     },
     "execution_count": 63,
     "metadata": {},
     "output_type": "execute_result"
    }
   ],
   "source": [
    "cvtree.best_estimator_"
   ]
  },
  {
   "cell_type": "code",
   "execution_count": 64,
   "id": "a3f89da8-978e-49cc-91e0-ef06dce97c98",
   "metadata": {},
   "outputs": [],
   "source": [
    "tree_classifier_full = DecisionTreeClassifier( max_depth = 11, random_state=301).fit(data, y_train)"
   ]
  },
  {
   "cell_type": "code",
   "execution_count": 65,
   "id": "f7d1b42e-dba6-4ccf-951d-ea3e5e690a4c",
   "metadata": {},
   "outputs": [
    {
     "data": {
      "text/plain": [
       "array([5.56909888e-01, 2.32268926e-01, 2.85720828e-02, 4.98169353e-03,\n",
       "       8.84931621e-03, 1.54222242e-02, 1.77489598e-02, 1.44112892e-02,\n",
       "       4.50742753e-02, 5.70361296e-03, 7.56991959e-03, 2.23198471e-02,\n",
       "       6.06356644e-03, 1.22159478e-02, 3.42212429e-04, 5.64529168e-03,\n",
       "       3.12356704e-03, 9.88401097e-03, 2.89336912e-03])"
      ]
     },
     "execution_count": 65,
     "metadata": {},
     "output_type": "execute_result"
    }
   ],
   "source": [
    "tree_classifier_full.feature_importances_"
   ]
  },
  {
   "cell_type": "code",
   "execution_count": 66,
   "id": "570f5f7b-8910-48af-baff-88821f43e460",
   "metadata": {},
   "outputs": [
    {
     "data": {
      "text/plain": [
       "array(['city_development_index', 'training_hours',\n",
       "       'relevent_experience_Has relevent experience',\n",
       "       'relevent_experience_No relevent experience', 'experience_expert',\n",
       "       'experience_intermediate', 'experience_junior',\n",
       "       'experience_advanced', 'enrolled_university_Full time course',\n",
       "       'enrolled_university_no_enrollment',\n",
       "       'enrolled_university_Part time course', 'education_level_Graduate',\n",
       "       'education_level_Primary School', 'education_level_Masters',\n",
       "       'education_level_Phd', 'education_level_High School',\n",
       "       'gender_Male', 'gender_Female', 'gender_Other'], dtype=object)"
      ]
     },
     "execution_count": 66,
     "metadata": {},
     "output_type": "execute_result"
    }
   ],
   "source": [
    "tree_classifier_full.feature_names_in_"
   ]
  },
  {
   "cell_type": "code",
   "execution_count": 67,
   "id": "786155bf-e5ea-4020-a2f2-3fa567f61645",
   "metadata": {},
   "outputs": [
    {
     "data": {
      "text/html": [
       "<div>\n",
       "<style scoped>\n",
       "    .dataframe tbody tr th:only-of-type {\n",
       "        vertical-align: middle;\n",
       "    }\n",
       "\n",
       "    .dataframe tbody tr th {\n",
       "        vertical-align: top;\n",
       "    }\n",
       "\n",
       "    .dataframe thead th {\n",
       "        text-align: right;\n",
       "    }\n",
       "</style>\n",
       "<table border=\"1\" class=\"dataframe\">\n",
       "  <thead>\n",
       "    <tr style=\"text-align: right;\">\n",
       "      <th></th>\n",
       "      <th>0</th>\n",
       "    </tr>\n",
       "  </thead>\n",
       "  <tbody>\n",
       "    <tr>\n",
       "      <th>city_development_index</th>\n",
       "      <td>0.556910</td>\n",
       "    </tr>\n",
       "    <tr>\n",
       "      <th>training_hours</th>\n",
       "      <td>0.232269</td>\n",
       "    </tr>\n",
       "    <tr>\n",
       "      <th>relevent_experience_Has relevent experience</th>\n",
       "      <td>0.028572</td>\n",
       "    </tr>\n",
       "    <tr>\n",
       "      <th>relevent_experience_No relevent experience</th>\n",
       "      <td>0.004982</td>\n",
       "    </tr>\n",
       "    <tr>\n",
       "      <th>experience_expert</th>\n",
       "      <td>0.008849</td>\n",
       "    </tr>\n",
       "    <tr>\n",
       "      <th>experience_intermediate</th>\n",
       "      <td>0.015422</td>\n",
       "    </tr>\n",
       "    <tr>\n",
       "      <th>experience_junior</th>\n",
       "      <td>0.017749</td>\n",
       "    </tr>\n",
       "    <tr>\n",
       "      <th>experience_advanced</th>\n",
       "      <td>0.014411</td>\n",
       "    </tr>\n",
       "    <tr>\n",
       "      <th>enrolled_university_Full time course</th>\n",
       "      <td>0.045074</td>\n",
       "    </tr>\n",
       "    <tr>\n",
       "      <th>enrolled_university_no_enrollment</th>\n",
       "      <td>0.005704</td>\n",
       "    </tr>\n",
       "    <tr>\n",
       "      <th>enrolled_university_Part time course</th>\n",
       "      <td>0.007570</td>\n",
       "    </tr>\n",
       "    <tr>\n",
       "      <th>education_level_Graduate</th>\n",
       "      <td>0.022320</td>\n",
       "    </tr>\n",
       "    <tr>\n",
       "      <th>education_level_Primary School</th>\n",
       "      <td>0.006064</td>\n",
       "    </tr>\n",
       "    <tr>\n",
       "      <th>education_level_Masters</th>\n",
       "      <td>0.012216</td>\n",
       "    </tr>\n",
       "    <tr>\n",
       "      <th>education_level_Phd</th>\n",
       "      <td>0.000342</td>\n",
       "    </tr>\n",
       "    <tr>\n",
       "      <th>education_level_High School</th>\n",
       "      <td>0.005645</td>\n",
       "    </tr>\n",
       "    <tr>\n",
       "      <th>gender_Male</th>\n",
       "      <td>0.003124</td>\n",
       "    </tr>\n",
       "    <tr>\n",
       "      <th>gender_Female</th>\n",
       "      <td>0.009884</td>\n",
       "    </tr>\n",
       "    <tr>\n",
       "      <th>gender_Other</th>\n",
       "      <td>0.002893</td>\n",
       "    </tr>\n",
       "  </tbody>\n",
       "</table>\n",
       "</div>"
      ],
      "text/plain": [
       "                                                    0\n",
       "city_development_index                       0.556910\n",
       "training_hours                               0.232269\n",
       "relevent_experience_Has relevent experience  0.028572\n",
       "relevent_experience_No relevent experience   0.004982\n",
       "experience_expert                            0.008849\n",
       "experience_intermediate                      0.015422\n",
       "experience_junior                            0.017749\n",
       "experience_advanced                          0.014411\n",
       "enrolled_university_Full time course         0.045074\n",
       "enrolled_university_no_enrollment            0.005704\n",
       "enrolled_university_Part time course         0.007570\n",
       "education_level_Graduate                     0.022320\n",
       "education_level_Primary School               0.006064\n",
       "education_level_Masters                      0.012216\n",
       "education_level_Phd                          0.000342\n",
       "education_level_High School                  0.005645\n",
       "gender_Male                                  0.003124\n",
       "gender_Female                                0.009884\n",
       "gender_Other                                 0.002893"
      ]
     },
     "execution_count": 67,
     "metadata": {},
     "output_type": "execute_result"
    }
   ],
   "source": [
    "pd.DataFrame([tree_classifier_full.feature_importances_], columns = tree_classifier_full.feature_names_in_).T"
   ]
  },
  {
   "cell_type": "code",
   "execution_count": 68,
   "id": "6dec9c9d-63f5-49f3-9422-6d36dfcb49d4",
   "metadata": {},
   "outputs": [],
   "source": [
    "y_pred = tree_classifier_full.predict(data)"
   ]
  },
  {
   "cell_type": "code",
   "execution_count": null,
   "id": "5e198312-6316-4fad-8889-818d8d053870",
   "metadata": {},
   "outputs": [],
   "source": []
  },
  {
   "cell_type": "code",
   "execution_count": 69,
   "id": "800ee321-36e1-4bca-922c-04744e4a9645",
   "metadata": {},
   "outputs": [
    {
     "data": {
      "text/plain": [
       "array([0., 0., 0., ..., 0., 1., 0.])"
      ]
     },
     "execution_count": 69,
     "metadata": {},
     "output_type": "execute_result"
    }
   ],
   "source": [
    "y_pred"
   ]
  },
  {
   "cell_type": "code",
   "execution_count": 70,
   "id": "99b17228-58a4-46cb-bb61-369494b680e0",
   "metadata": {},
   "outputs": [],
   "source": [
    "from sklearn.metrics import roc_auc_score"
   ]
  },
  {
   "cell_type": "code",
   "execution_count": 71,
   "id": "d64e1f63-378a-4470-92eb-fa704487d4d8",
   "metadata": {},
   "outputs": [
    {
     "data": {
      "text/plain": [
       "0.7197525771595441"
      ]
     },
     "execution_count": 71,
     "metadata": {},
     "output_type": "execute_result"
    }
   ],
   "source": [
    "sklearn.metrics.roc_auc_score(y_train, y_pred)"
   ]
  },
  {
   "cell_type": "code",
   "execution_count": 72,
   "id": "9ebf975b-85c6-486c-bfad-73e2fc0e8a89",
   "metadata": {},
   "outputs": [],
   "source": [
    "d_test = pipeline_competencia.transform(X_test)"
   ]
  },
  {
   "cell_type": "code",
   "execution_count": 73,
   "id": "43eff95b-650c-4762-892c-fb5232c6a562",
   "metadata": {},
   "outputs": [],
   "source": [
    "pred_y_test = tree_classifier_full.predict(d_test)"
   ]
  },
  {
   "cell_type": "code",
   "execution_count": 74,
   "id": "70260b2e-3559-44ff-8c21-1b999d8b39f9",
   "metadata": {},
   "outputs": [
    {
     "data": {
      "text/plain": [
       "0.6532874524093865"
      ]
     },
     "execution_count": 74,
     "metadata": {},
     "output_type": "execute_result"
    }
   ],
   "source": [
    "sklearn.metrics.roc_auc_score(y_test, pred_y_test)"
   ]
  },
  {
   "cell_type": "code",
   "execution_count": 75,
   "id": "50525750-3763-4f55-a9af-b64288f0646a",
   "metadata": {},
   "outputs": [
    {
     "data": {
      "text/plain": [
       "array([0., 0., 0., ..., 0., 0., 0.])"
      ]
     },
     "execution_count": 75,
     "metadata": {},
     "output_type": "execute_result"
    }
   ],
   "source": [
    "pred_y_test"
   ]
  },
  {
   "cell_type": "code",
   "execution_count": 76,
   "id": "53158ad6-9345-4fee-af94-225f4dd4f486",
   "metadata": {},
   "outputs": [
    {
     "data": {
      "text/plain": [
       "0.0"
      ]
     },
     "execution_count": 76,
     "metadata": {},
     "output_type": "execute_result"
    }
   ],
   "source": [
    "pred_y_test[-1]"
   ]
  },
  {
   "cell_type": "code",
   "execution_count": 77,
   "id": "928cab32-4637-4d15-a835-dc8e5f32b206",
   "metadata": {},
   "outputs": [
    {
     "data": {
      "text/html": [
       "<div>\n",
       "<style scoped>\n",
       "    .dataframe tbody tr th:only-of-type {\n",
       "        vertical-align: middle;\n",
       "    }\n",
       "\n",
       "    .dataframe tbody tr th {\n",
       "        vertical-align: top;\n",
       "    }\n",
       "\n",
       "    .dataframe thead th {\n",
       "        text-align: right;\n",
       "    }\n",
       "</style>\n",
       "<table border=\"1\" class=\"dataframe\">\n",
       "  <thead>\n",
       "    <tr style=\"text-align: right;\">\n",
       "      <th></th>\n",
       "      <th>city_development_index</th>\n",
       "      <th>gender</th>\n",
       "      <th>relevent_experience</th>\n",
       "      <th>enrolled_university</th>\n",
       "      <th>education_level</th>\n",
       "      <th>experience</th>\n",
       "      <th>training_hours</th>\n",
       "    </tr>\n",
       "  </thead>\n",
       "  <tbody>\n",
       "    <tr>\n",
       "      <th>1421</th>\n",
       "      <td>0.848</td>\n",
       "      <td>Male</td>\n",
       "      <td>Has relevent experience</td>\n",
       "      <td>Full time course</td>\n",
       "      <td>Graduate</td>\n",
       "      <td>expert</td>\n",
       "      <td>34</td>\n",
       "    </tr>\n",
       "    <tr>\n",
       "      <th>5453</th>\n",
       "      <td>0.896</td>\n",
       "      <td>Male</td>\n",
       "      <td>No relevent experience</td>\n",
       "      <td>no_enrollment</td>\n",
       "      <td>Graduate</td>\n",
       "      <td>expert</td>\n",
       "      <td>5</td>\n",
       "    </tr>\n",
       "    <tr>\n",
       "      <th>196</th>\n",
       "      <td>0.920</td>\n",
       "      <td>Male</td>\n",
       "      <td>Has relevent experience</td>\n",
       "      <td>no_enrollment</td>\n",
       "      <td>Graduate</td>\n",
       "      <td>expert</td>\n",
       "      <td>74</td>\n",
       "    </tr>\n",
       "    <tr>\n",
       "      <th>3622</th>\n",
       "      <td>0.910</td>\n",
       "      <td>Male</td>\n",
       "      <td>Has relevent experience</td>\n",
       "      <td>no_enrollment</td>\n",
       "      <td>Graduate</td>\n",
       "      <td>expert</td>\n",
       "      <td>24</td>\n",
       "    </tr>\n",
       "    <tr>\n",
       "      <th>1498</th>\n",
       "      <td>0.579</td>\n",
       "      <td>Male</td>\n",
       "      <td>Has relevent experience</td>\n",
       "      <td>no_enrollment</td>\n",
       "      <td>Graduate</td>\n",
       "      <td>expert</td>\n",
       "      <td>24</td>\n",
       "    </tr>\n",
       "    <tr>\n",
       "      <th>...</th>\n",
       "      <td>...</td>\n",
       "      <td>...</td>\n",
       "      <td>...</td>\n",
       "      <td>...</td>\n",
       "      <td>...</td>\n",
       "      <td>...</td>\n",
       "      <td>...</td>\n",
       "    </tr>\n",
       "    <tr>\n",
       "      <th>5699</th>\n",
       "      <td>0.647</td>\n",
       "      <td>Male</td>\n",
       "      <td>No relevent experience</td>\n",
       "      <td>Full time course</td>\n",
       "      <td>Graduate</td>\n",
       "      <td>expert</td>\n",
       "      <td>23</td>\n",
       "    </tr>\n",
       "    <tr>\n",
       "      <th>10742</th>\n",
       "      <td>0.924</td>\n",
       "      <td>Male</td>\n",
       "      <td>Has relevent experience</td>\n",
       "      <td>no_enrollment</td>\n",
       "      <td>Masters</td>\n",
       "      <td>expert</td>\n",
       "      <td>80</td>\n",
       "    </tr>\n",
       "    <tr>\n",
       "      <th>537</th>\n",
       "      <td>0.920</td>\n",
       "      <td>Male</td>\n",
       "      <td>Has relevent experience</td>\n",
       "      <td>no_enrollment</td>\n",
       "      <td>Primary School</td>\n",
       "      <td>expert</td>\n",
       "      <td>70</td>\n",
       "    </tr>\n",
       "    <tr>\n",
       "      <th>9412</th>\n",
       "      <td>0.624</td>\n",
       "      <td>Male</td>\n",
       "      <td>Has relevent experience</td>\n",
       "      <td>no_enrollment</td>\n",
       "      <td>Graduate</td>\n",
       "      <td>intermediate</td>\n",
       "      <td>14</td>\n",
       "    </tr>\n",
       "    <tr>\n",
       "      <th>12463</th>\n",
       "      <td>0.915</td>\n",
       "      <td>Male</td>\n",
       "      <td>Has relevent experience</td>\n",
       "      <td>no_enrollment</td>\n",
       "      <td>High School</td>\n",
       "      <td>junior</td>\n",
       "      <td>39</td>\n",
       "    </tr>\n",
       "  </tbody>\n",
       "</table>\n",
       "<p>10728 rows × 7 columns</p>\n",
       "</div>"
      ],
      "text/plain": [
       "       city_development_index gender      relevent_experience  \\\n",
       "1421                    0.848   Male  Has relevent experience   \n",
       "5453                    0.896   Male   No relevent experience   \n",
       "196                     0.920   Male  Has relevent experience   \n",
       "3622                    0.910   Male  Has relevent experience   \n",
       "1498                    0.579   Male  Has relevent experience   \n",
       "...                       ...    ...                      ...   \n",
       "5699                    0.647   Male   No relevent experience   \n",
       "10742                   0.924   Male  Has relevent experience   \n",
       "537                     0.920   Male  Has relevent experience   \n",
       "9412                    0.624   Male  Has relevent experience   \n",
       "12463                   0.915   Male  Has relevent experience   \n",
       "\n",
       "      enrolled_university education_level    experience  training_hours  \n",
       "1421     Full time course        Graduate        expert              34  \n",
       "5453        no_enrollment        Graduate        expert               5  \n",
       "196         no_enrollment        Graduate        expert              74  \n",
       "3622        no_enrollment        Graduate        expert              24  \n",
       "1498        no_enrollment        Graduate        expert              24  \n",
       "...                   ...             ...           ...             ...  \n",
       "5699     Full time course        Graduate        expert              23  \n",
       "10742       no_enrollment         Masters        expert              80  \n",
       "537         no_enrollment  Primary School        expert              70  \n",
       "9412        no_enrollment        Graduate  intermediate              14  \n",
       "12463       no_enrollment     High School        junior              39  \n",
       "\n",
       "[10728 rows x 7 columns]"
      ]
     },
     "execution_count": 77,
     "metadata": {},
     "output_type": "execute_result"
    }
   ],
   "source": [
    "X_train"
   ]
  },
  {
   "cell_type": "code",
   "execution_count": 78,
   "id": "4d8aa354-e74d-4f50-98c2-ae86175b0509",
   "metadata": {},
   "outputs": [],
   "source": [
    "from sklearn.metrics import classification_report\n",
    "from sklearn.ensemble import GradientBoostingClassifier\n",
    "from sklearn.model_selection import train_test_split"
   ]
  },
  {
   "cell_type": "code",
   "execution_count": 79,
   "id": "30df3bbc-cf04-4e5e-a768-a335c7528c21",
   "metadata": {},
   "outputs": [
    {
     "data": {
      "text/plain": [
       "GradientBoostingClassifier()"
      ]
     },
     "execution_count": 79,
     "metadata": {},
     "output_type": "execute_result"
    }
   ],
   "source": [
    "gradient_booster = GradientBoostingClassifier(learning_rate=0.1)\n",
    "gradient_booster.fit(data, y_train)"
   ]
  },
  {
   "cell_type": "code",
   "execution_count": 80,
   "id": "18720f07-97d9-45f7-ac97-045382c783f6",
   "metadata": {},
   "outputs": [
    {
     "name": "stdout",
     "output_type": "stream",
     "text": [
      "              precision    recall  f1-score   support\n",
      "\n",
      "         0.0       0.83      0.91      0.86      3468\n",
      "         1.0       0.59      0.41      0.49      1130\n",
      "\n",
      "    accuracy                           0.79      4598\n",
      "   macro avg       0.71      0.66      0.68      4598\n",
      "weighted avg       0.77      0.79      0.77      4598\n",
      "\n"
     ]
    }
   ],
   "source": [
    "print(classification_report(y_test,gradient_booster.predict(d_test))) "
   ]
  },
  {
   "cell_type": "code",
   "execution_count": 81,
   "id": "b001441c-ff52-4e23-bcfa-ab4633c15d55",
   "metadata": {},
   "outputs": [],
   "source": [
    "prediccion_y=gradient_booster.predict(data)"
   ]
  },
  {
   "cell_type": "code",
   "execution_count": 82,
   "id": "daf53e20-4a1d-4f8e-8dd3-46c5518a4e63",
   "metadata": {},
   "outputs": [
    {
     "data": {
      "text/plain": [
       "0.667402958362372"
      ]
     },
     "execution_count": 82,
     "metadata": {},
     "output_type": "execute_result"
    }
   ],
   "source": [
    "metrics.roc_auc_score(y_train, prediccion_y)"
   ]
  },
  {
   "cell_type": "code",
   "execution_count": 83,
   "id": "57f98092-c04a-415e-84c3-09658d780027",
   "metadata": {},
   "outputs": [],
   "source": [
    "pred_booster_test= gradient_booster.predict(d_test)"
   ]
  },
  {
   "cell_type": "code",
   "execution_count": 84,
   "id": "eba7bee7-f020-48dd-bc96-0644b6d8cc76",
   "metadata": {},
   "outputs": [
    {
     "data": {
      "text/plain": [
       "0.6596260628145064"
      ]
     },
     "execution_count": 84,
     "metadata": {},
     "output_type": "execute_result"
    }
   ],
   "source": [
    "metrics.roc_auc_score(y_test, pred_booster_test)"
   ]
  },
  {
   "cell_type": "code",
   "execution_count": null,
   "id": "abeebae2-243e-49f9-83e4-a4a4eeaf2dad",
   "metadata": {},
   "outputs": [],
   "source": []
  },
  {
   "cell_type": "code",
   "execution_count": 86,
   "id": "9ae3263e-5ac6-4146-a940-84c9e55a9cb6",
   "metadata": {},
   "outputs": [
    {
     "data": {
      "text/plain": [
       "0.667402958362372"
      ]
     },
     "execution_count": 86,
     "metadata": {},
     "output_type": "execute_result"
    }
   ],
   "source": [
    "metrics.roc_auc_score(y_train, prediccion_y)"
   ]
  },
  {
   "cell_type": "code",
   "execution_count": null,
   "id": "c5fb51d3-dc32-42b4-b82f-cbff861af259",
   "metadata": {},
   "outputs": [],
   "source": []
  },
  {
   "cell_type": "code",
   "execution_count": null,
   "id": "0effb5e2-c09b-4c32-8b67-90e09f3d114a",
   "metadata": {},
   "outputs": [],
   "source": []
  },
  {
   "cell_type": "code",
   "execution_count": 87,
   "id": "31648b21-31b7-48c7-a2e8-fee84a71c41d",
   "metadata": {},
   "outputs": [],
   "source": [
    "respuesta=df_test.copy()"
   ]
  },
  {
   "cell_type": "code",
   "execution_count": null,
   "id": "9f893f17-75b4-4030-987f-5df84097cb02",
   "metadata": {},
   "outputs": [],
   "source": []
  },
  {
   "cell_type": "code",
   "execution_count": 88,
   "id": "7348779d-f953-4f27-a11d-c490c59c189c",
   "metadata": {},
   "outputs": [],
   "source": [
    "respuesta.drop(['city', 'city_development_index', 'gender',\n",
    "       'relevent_experience', 'enrolled_university', 'education_level',\n",
    "       'major_discipline', 'experience', 'company_size', 'company_type',\n",
    "       'last_new_job', 'training_hours'],axis=1, inplace=True)"
   ]
  },
  {
   "cell_type": "code",
   "execution_count": null,
   "id": "223465e2-a8fd-47ef-b748-3ace8868b06f",
   "metadata": {},
   "outputs": [],
   "source": [
    "respuesta.head()"
   ]
  },
  {
   "cell_type": "code",
   "execution_count": 89,
   "id": "5ae526a9-388b-4715-94ef-ee8e1c11f5b5",
   "metadata": {},
   "outputs": [
    {
     "data": {
      "text/plain": [
       "array([[0.49859055, 0.50140945],\n",
       "       [0.86898013, 0.13101987],\n",
       "       [0.67650478, 0.32349522],\n",
       "       ...,\n",
       "       [0.82347416, 0.17652584],\n",
       "       [0.93560857, 0.06439143],\n",
       "       [0.81034724, 0.18965276]])"
      ]
     },
     "execution_count": 89,
     "metadata": {},
     "output_type": "execute_result"
    }
   ],
   "source": [
    "prediccion_test= gradient_booster.predict_proba(data_test)\n",
    "prediccion_test"
   ]
  },
  {
   "cell_type": "code",
   "execution_count": 90,
   "id": "964fccff-0808-42bd-a062-687dedd2258f",
   "metadata": {},
   "outputs": [
    {
     "data": {
      "text/plain": [
       "(3832, 2)"
      ]
     },
     "execution_count": 90,
     "metadata": {},
     "output_type": "execute_result"
    }
   ],
   "source": [
    "prediccion_test.shape"
   ]
  },
  {
   "cell_type": "code",
   "execution_count": 91,
   "id": "b1094689-9c90-4f14-b62c-25a0cf3af568",
   "metadata": {},
   "outputs": [
    {
     "data": {
      "text/plain": [
       "(3832, 1)"
      ]
     },
     "execution_count": 91,
     "metadata": {},
     "output_type": "execute_result"
    }
   ],
   "source": [
    "respuesta.shape"
   ]
  },
  {
   "cell_type": "code",
   "execution_count": 92,
   "id": "0015d58d-16ff-4f46-979b-1164048fa4bd",
   "metadata": {},
   "outputs": [],
   "source": [
    "lista_target=[]\n",
    "for x in prediccion_test:\n",
    "    lista_target.append(x[1])"
   ]
  },
  {
   "cell_type": "code",
   "execution_count": 93,
   "id": "92b95f1b-a1ea-449d-b8f0-a501f07fa3d5",
   "metadata": {},
   "outputs": [],
   "source": [
    "target = pd.DataFrame(lista_target)"
   ]
  },
  {
   "cell_type": "code",
   "execution_count": 94,
   "id": "41f721fc-7195-43e1-beb7-3cce99201516",
   "metadata": {},
   "outputs": [],
   "source": [
    "respuesta['target'] = target"
   ]
  },
  {
   "cell_type": "code",
   "execution_count": 95,
   "id": "726699b7-27ad-4cfa-82ed-37d54240c14e",
   "metadata": {},
   "outputs": [
    {
     "data": {
      "text/html": [
       "<div>\n",
       "<style scoped>\n",
       "    .dataframe tbody tr th:only-of-type {\n",
       "        vertical-align: middle;\n",
       "    }\n",
       "\n",
       "    .dataframe tbody tr th {\n",
       "        vertical-align: top;\n",
       "    }\n",
       "\n",
       "    .dataframe thead th {\n",
       "        text-align: right;\n",
       "    }\n",
       "</style>\n",
       "<table border=\"1\" class=\"dataframe\">\n",
       "  <thead>\n",
       "    <tr style=\"text-align: right;\">\n",
       "      <th></th>\n",
       "      <th>enrollee_id</th>\n",
       "      <th>target</th>\n",
       "    </tr>\n",
       "  </thead>\n",
       "  <tbody>\n",
       "    <tr>\n",
       "      <th>0</th>\n",
       "      <td>23603</td>\n",
       "      <td>0.501409</td>\n",
       "    </tr>\n",
       "    <tr>\n",
       "      <th>1</th>\n",
       "      <td>22499</td>\n",
       "      <td>0.131020</td>\n",
       "    </tr>\n",
       "    <tr>\n",
       "      <th>2</th>\n",
       "      <td>10465</td>\n",
       "      <td>0.323495</td>\n",
       "    </tr>\n",
       "    <tr>\n",
       "      <th>3</th>\n",
       "      <td>8293</td>\n",
       "      <td>0.086128</td>\n",
       "    </tr>\n",
       "    <tr>\n",
       "      <th>4</th>\n",
       "      <td>4246</td>\n",
       "      <td>0.191569</td>\n",
       "    </tr>\n",
       "    <tr>\n",
       "      <th>...</th>\n",
       "      <td>...</td>\n",
       "      <td>...</td>\n",
       "    </tr>\n",
       "    <tr>\n",
       "      <th>3827</th>\n",
       "      <td>8880</td>\n",
       "      <td>0.304711</td>\n",
       "    </tr>\n",
       "    <tr>\n",
       "      <th>3828</th>\n",
       "      <td>7886</td>\n",
       "      <td>0.112767</td>\n",
       "    </tr>\n",
       "    <tr>\n",
       "      <th>3829</th>\n",
       "      <td>12279</td>\n",
       "      <td>0.176526</td>\n",
       "    </tr>\n",
       "    <tr>\n",
       "      <th>3830</th>\n",
       "      <td>5326</td>\n",
       "      <td>0.064391</td>\n",
       "    </tr>\n",
       "    <tr>\n",
       "      <th>3831</th>\n",
       "      <td>4017</td>\n",
       "      <td>0.189653</td>\n",
       "    </tr>\n",
       "  </tbody>\n",
       "</table>\n",
       "<p>3832 rows × 2 columns</p>\n",
       "</div>"
      ],
      "text/plain": [
       "      enrollee_id    target\n",
       "0           23603  0.501409\n",
       "1           22499  0.131020\n",
       "2           10465  0.323495\n",
       "3            8293  0.086128\n",
       "4            4246  0.191569\n",
       "...           ...       ...\n",
       "3827         8880  0.304711\n",
       "3828         7886  0.112767\n",
       "3829        12279  0.176526\n",
       "3830         5326  0.064391\n",
       "3831         4017  0.189653\n",
       "\n",
       "[3832 rows x 2 columns]"
      ]
     },
     "execution_count": 95,
     "metadata": {},
     "output_type": "execute_result"
    }
   ],
   "source": [
    "respuesta"
   ]
  },
  {
   "cell_type": "code",
   "execution_count": 96,
   "id": "3d390f46-3f0a-403e-8424-846356218b8b",
   "metadata": {},
   "outputs": [],
   "source": [
    "respuesta.to_csv('respuesta_booster.csv', index=False)"
   ]
  },
  {
   "cell_type": "code",
   "execution_count": null,
   "id": "ee465aeb-eba6-4e3d-9e6b-d9c188b749e2",
   "metadata": {},
   "outputs": [],
   "source": []
  }
 ],
 "metadata": {
  "kernelspec": {
   "display_name": "Python 3 (ipykernel)",
   "language": "python",
   "name": "python3"
  },
  "language_info": {
   "codemirror_mode": {
    "name": "ipython",
    "version": 3
   },
   "file_extension": ".py",
   "mimetype": "text/x-python",
   "name": "python",
   "nbconvert_exporter": "python",
   "pygments_lexer": "ipython3",
   "version": "3.9.12"
  }
 },
 "nbformat": 4,
 "nbformat_minor": 5
}
